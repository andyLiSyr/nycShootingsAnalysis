{
 "cells": [
  {
   "cell_type": "markdown",
   "id": "f7c33619",
   "metadata": {},
   "source": [
    "## NYC Shootings Analysis"
   ]
  },
  {
   "cell_type": "markdown",
   "id": "1d966d1c",
   "metadata": {},
   "source": [
    "Shootings in America have become a growing problem, as a NYC resident I wanted to know the situation of shooting incidents in my city. I found a NYC public dataset that contained information on all reported shootings in NYC from 2005-2022 which was perfect for my goal."
   ]
  },
  {
   "cell_type": "code",
   "execution_count": 57,
   "id": "2f60a7a5",
   "metadata": {},
   "outputs": [],
   "source": [
    "#importing libraries\n",
    "import pandas as pd\n",
    "import matplotlib.pyplot as plt\n",
    "import seaborn as sns\n",
    "import sqlite3"
   ]
  },
  {
   "cell_type": "code",
   "execution_count": 58,
   "id": "cdb655c1",
   "metadata": {},
   "outputs": [],
   "source": [
    "#connecting to sqlite3 database\n",
    "connection=sqlite3.connect('../../databases/nyc_shootings_db')"
   ]
  },
  {
   "cell_type": "markdown",
   "id": "28b6d510",
   "metadata": {},
   "source": [
    "### Overview of the Data"
   ]
  },
  {
   "cell_type": "markdown",
   "id": "18aaeb23",
   "metadata": {},
   "source": [
    "I have cleaned the dataset, and filtered out the data to only contain the last 6 recent years 2017-2022. I have transformed the data into two different tables that are stored in a sqlite3 database: Shootings and Incidents. Look at the data cleaning and database setup sections of the repo to see the whole process."
   ]
  },
  {
   "cell_type": "markdown",
   "id": "3cdfe595",
   "metadata": {},
   "source": [
    "#### Shootings Table"
   ]
  },
  {
   "cell_type": "markdown",
   "id": "15931258",
   "metadata": {},
   "source": [
    "The shootings table gives info on the victim and perpetrator demographics of all the reported shootings that have occurred in NYC. Each row in the table represents one singular shooting where one perpetrator shoots one victim."
   ]
  },
  {
   "cell_type": "code",
   "execution_count": 59,
   "id": "88451dc0",
   "metadata": {},
   "outputs": [],
   "source": [
    "#query to retrieve all the rows and columns from the Shootings table\n",
    "query='''SELECT *\n",
    "         FROM Shootings;'''"
   ]
  },
  {
   "cell_type": "code",
   "execution_count": 60,
   "id": "e35017ce",
   "metadata": {},
   "outputs": [
    {
     "data": {
      "text/html": [
       "<div>\n",
       "<style scoped>\n",
       "    .dataframe tbody tr th:only-of-type {\n",
       "        vertical-align: middle;\n",
       "    }\n",
       "\n",
       "    .dataframe tbody tr th {\n",
       "        vertical-align: top;\n",
       "    }\n",
       "\n",
       "    .dataframe thead th {\n",
       "        text-align: right;\n",
       "    }\n",
       "</style>\n",
       "<table border=\"1\" class=\"dataframe\">\n",
       "  <thead>\n",
       "    <tr style=\"text-align: right;\">\n",
       "      <th></th>\n",
       "      <th>ID</th>\n",
       "      <th>INCIDENT_KEY</th>\n",
       "      <th>STATISTICAL_MURDER_FLAG</th>\n",
       "      <th>PERP_AGE_GROUP</th>\n",
       "      <th>PERP_SEX</th>\n",
       "      <th>PERP_RACE</th>\n",
       "      <th>VIC_AGE_GROUP</th>\n",
       "      <th>VIC_SEX</th>\n",
       "      <th>VIC_RACE</th>\n",
       "    </tr>\n",
       "  </thead>\n",
       "  <tbody>\n",
       "    <tr>\n",
       "      <th>0</th>\n",
       "      <td>1</td>\n",
       "      <td>228798151</td>\n",
       "      <td>0</td>\n",
       "      <td>UNKNOWN</td>\n",
       "      <td>U</td>\n",
       "      <td>UNKNOWN</td>\n",
       "      <td>18-24</td>\n",
       "      <td>M</td>\n",
       "      <td>BLACK</td>\n",
       "    </tr>\n",
       "    <tr>\n",
       "      <th>1</th>\n",
       "      <td>2</td>\n",
       "      <td>219559682</td>\n",
       "      <td>1</td>\n",
       "      <td>UNKNOWN</td>\n",
       "      <td>U</td>\n",
       "      <td>UNKNOWN</td>\n",
       "      <td>25-44</td>\n",
       "      <td>M</td>\n",
       "      <td>BLACK</td>\n",
       "    </tr>\n",
       "    <tr>\n",
       "      <th>2</th>\n",
       "      <td>3</td>\n",
       "      <td>234756217</td>\n",
       "      <td>0</td>\n",
       "      <td>UNKNOWN</td>\n",
       "      <td>U</td>\n",
       "      <td>UNKNOWN</td>\n",
       "      <td>25-44</td>\n",
       "      <td>M</td>\n",
       "      <td>BLACK</td>\n",
       "    </tr>\n",
       "    <tr>\n",
       "      <th>3</th>\n",
       "      <td>4</td>\n",
       "      <td>230311079</td>\n",
       "      <td>0</td>\n",
       "      <td>UNKNOWN</td>\n",
       "      <td>U</td>\n",
       "      <td>UNKNOWN</td>\n",
       "      <td>25-44</td>\n",
       "      <td>M</td>\n",
       "      <td>BLACK</td>\n",
       "    </tr>\n",
       "    <tr>\n",
       "      <th>4</th>\n",
       "      <td>5</td>\n",
       "      <td>225297069</td>\n",
       "      <td>0</td>\n",
       "      <td>25-44</td>\n",
       "      <td>M</td>\n",
       "      <td>BLACK</td>\n",
       "      <td>25-44</td>\n",
       "      <td>M</td>\n",
       "      <td>WHITE</td>\n",
       "    </tr>\n",
       "    <tr>\n",
       "      <th>...</th>\n",
       "      <td>...</td>\n",
       "      <td>...</td>\n",
       "      <td>...</td>\n",
       "      <td>...</td>\n",
       "      <td>...</td>\n",
       "      <td>...</td>\n",
       "      <td>...</td>\n",
       "      <td>...</td>\n",
       "      <td>...</td>\n",
       "    </tr>\n",
       "    <tr>\n",
       "      <th>8565</th>\n",
       "      <td>8566</td>\n",
       "      <td>245029823</td>\n",
       "      <td>0</td>\n",
       "      <td>UNKNOWN</td>\n",
       "      <td>U</td>\n",
       "      <td>UNKNOWN</td>\n",
       "      <td>18-24</td>\n",
       "      <td>M</td>\n",
       "      <td>BLACK</td>\n",
       "    </tr>\n",
       "    <tr>\n",
       "      <th>8566</th>\n",
       "      <td>8567</td>\n",
       "      <td>239583450</td>\n",
       "      <td>0</td>\n",
       "      <td>25-44</td>\n",
       "      <td>F</td>\n",
       "      <td>WHITE HISPANIC</td>\n",
       "      <td>25-44</td>\n",
       "      <td>M</td>\n",
       "      <td>WHITE HISPANIC</td>\n",
       "    </tr>\n",
       "    <tr>\n",
       "      <th>8567</th>\n",
       "      <td>8568</td>\n",
       "      <td>246825728</td>\n",
       "      <td>0</td>\n",
       "      <td>18-24</td>\n",
       "      <td>M</td>\n",
       "      <td>BLACK</td>\n",
       "      <td>25-44</td>\n",
       "      <td>M</td>\n",
       "      <td>BLACK</td>\n",
       "    </tr>\n",
       "    <tr>\n",
       "      <th>8568</th>\n",
       "      <td>8569</td>\n",
       "      <td>246876579</td>\n",
       "      <td>0</td>\n",
       "      <td>25-44</td>\n",
       "      <td>M</td>\n",
       "      <td>BLACK</td>\n",
       "      <td>25-44</td>\n",
       "      <td>M</td>\n",
       "      <td>WHITE HISPANIC</td>\n",
       "    </tr>\n",
       "    <tr>\n",
       "      <th>8569</th>\n",
       "      <td>8570</td>\n",
       "      <td>239861542</td>\n",
       "      <td>0</td>\n",
       "      <td>18-24</td>\n",
       "      <td>M</td>\n",
       "      <td>BLACK</td>\n",
       "      <td>18-24</td>\n",
       "      <td>M</td>\n",
       "      <td>BLACK</td>\n",
       "    </tr>\n",
       "  </tbody>\n",
       "</table>\n",
       "<p>8570 rows × 9 columns</p>\n",
       "</div>"
      ],
      "text/plain": [
       "        ID  INCIDENT_KEY  STATISTICAL_MURDER_FLAG PERP_AGE_GROUP PERP_SEX   \n",
       "0        1     228798151                        0        UNKNOWN        U  \\\n",
       "1        2     219559682                        1        UNKNOWN        U   \n",
       "2        3     234756217                        0        UNKNOWN        U   \n",
       "3        4     230311079                        0        UNKNOWN        U   \n",
       "4        5     225297069                        0          25-44        M   \n",
       "...    ...           ...                      ...            ...      ...   \n",
       "8565  8566     245029823                        0        UNKNOWN        U   \n",
       "8566  8567     239583450                        0          25-44        F   \n",
       "8567  8568     246825728                        0          18-24        M   \n",
       "8568  8569     246876579                        0          25-44        M   \n",
       "8569  8570     239861542                        0          18-24        M   \n",
       "\n",
       "           PERP_RACE VIC_AGE_GROUP VIC_SEX        VIC_RACE  \n",
       "0            UNKNOWN         18-24       M           BLACK  \n",
       "1            UNKNOWN         25-44       M           BLACK  \n",
       "2            UNKNOWN         25-44       M           BLACK  \n",
       "3            UNKNOWN         25-44       M           BLACK  \n",
       "4              BLACK         25-44       M           WHITE  \n",
       "...              ...           ...     ...             ...  \n",
       "8565         UNKNOWN         18-24       M           BLACK  \n",
       "8566  WHITE HISPANIC         25-44       M  WHITE HISPANIC  \n",
       "8567           BLACK         25-44       M           BLACK  \n",
       "8568           BLACK         25-44       M  WHITE HISPANIC  \n",
       "8569           BLACK         18-24       M           BLACK  \n",
       "\n",
       "[8570 rows x 9 columns]"
      ]
     },
     "execution_count": 60,
     "metadata": {},
     "output_type": "execute_result"
    }
   ],
   "source": [
    "#storing query in a dataframe called result and displaying it\n",
    "result=pd.read_sql_query(query,connection)\n",
    "result"
   ]
  },
  {
   "cell_type": "markdown",
   "id": "da7993f2",
   "metadata": {},
   "source": [
    "#### Column Variables\n",
    "\n",
    "- ID: The unique identifier of each shooting, the primary key of the table\n",
    "- INCIDENT_KEY: A foreign key used to join with the Incidents table\n",
    "- STATISTICAL_MURDER_FLAG: Boolean flag that shows if the shooter killed the victim, 0 means False and 1 means True\n",
    "- PERP_AGE_GROUP: Age group of the perpetrator\n",
    "- PERP_SEX: Gender of the perpetrator\n",
    "- PERP_RACE: Race of the perpetrator\n",
    "- VIC_AGE_GROUP: Age group of the victim\n",
    "- VIC_SEX: Gender of the victim\n",
    "- VIC_RACE: Race of the victim"
   ]
  },
  {
   "cell_type": "markdown",
   "id": "afed8424",
   "metadata": {},
   "source": [
    "#### Incidents Table"
   ]
  },
  {
   "cell_type": "markdown",
   "id": "a7d77894",
   "metadata": {},
   "source": [
    "The incidents table gives information on all the shooting incidents that have occurred. A shooting incident is the date/time and location of one or more shootings. Multiple shootings can occur within a single incident, with each shooting taking place at the same location and time as others within that particular incident."
   ]
  },
  {
   "cell_type": "code",
   "execution_count": 61,
   "id": "0e8f861e",
   "metadata": {},
   "outputs": [],
   "source": [
    "#query to retrieve all the rows and columns from the Incidents table\n",
    "query='''SELECT *\n",
    "         FROM Incidents'''"
   ]
  },
  {
   "cell_type": "code",
   "execution_count": 62,
   "id": "4aa0f6e7",
   "metadata": {},
   "outputs": [
    {
     "data": {
      "text/html": [
       "<div>\n",
       "<style scoped>\n",
       "    .dataframe tbody tr th:only-of-type {\n",
       "        vertical-align: middle;\n",
       "    }\n",
       "\n",
       "    .dataframe tbody tr th {\n",
       "        vertical-align: top;\n",
       "    }\n",
       "\n",
       "    .dataframe thead th {\n",
       "        text-align: right;\n",
       "    }\n",
       "</style>\n",
       "<table border=\"1\" class=\"dataframe\">\n",
       "  <thead>\n",
       "    <tr style=\"text-align: right;\">\n",
       "      <th></th>\n",
       "      <th>INCIDENT_KEY</th>\n",
       "      <th>OCCUR_DATE</th>\n",
       "      <th>OCCUR_TIME</th>\n",
       "      <th>BORO</th>\n",
       "      <th>PRECINCT</th>\n",
       "    </tr>\n",
       "  </thead>\n",
       "  <tbody>\n",
       "    <tr>\n",
       "      <th>0</th>\n",
       "      <td>228798151</td>\n",
       "      <td>2021-05-27</td>\n",
       "      <td>21:30:00</td>\n",
       "      <td>Queens</td>\n",
       "      <td>105</td>\n",
       "    </tr>\n",
       "    <tr>\n",
       "      <th>1</th>\n",
       "      <td>219559682</td>\n",
       "      <td>2020-10-21</td>\n",
       "      <td>21:36:00</td>\n",
       "      <td>Brooklyn</td>\n",
       "      <td>81</td>\n",
       "    </tr>\n",
       "    <tr>\n",
       "      <th>2</th>\n",
       "      <td>234756217</td>\n",
       "      <td>2021-10-09</td>\n",
       "      <td>20:17:00</td>\n",
       "      <td>Brooklyn</td>\n",
       "      <td>71</td>\n",
       "    </tr>\n",
       "    <tr>\n",
       "      <th>3</th>\n",
       "      <td>230311079</td>\n",
       "      <td>2021-07-01</td>\n",
       "      <td>02:44:00</td>\n",
       "      <td>Brooklyn</td>\n",
       "      <td>73</td>\n",
       "    </tr>\n",
       "    <tr>\n",
       "      <th>4</th>\n",
       "      <td>225297069</td>\n",
       "      <td>2021-03-07</td>\n",
       "      <td>21:17:00</td>\n",
       "      <td>Brooklyn</td>\n",
       "      <td>71</td>\n",
       "    </tr>\n",
       "    <tr>\n",
       "      <th>...</th>\n",
       "      <td>...</td>\n",
       "      <td>...</td>\n",
       "      <td>...</td>\n",
       "      <td>...</td>\n",
       "      <td>...</td>\n",
       "    </tr>\n",
       "    <tr>\n",
       "      <th>6702</th>\n",
       "      <td>244169758</td>\n",
       "      <td>2022-04-26</td>\n",
       "      <td>04:27:00</td>\n",
       "      <td>Bronx</td>\n",
       "      <td>42</td>\n",
       "    </tr>\n",
       "    <tr>\n",
       "      <th>6703</th>\n",
       "      <td>249978889</td>\n",
       "      <td>2022-08-23</td>\n",
       "      <td>01:58:00</td>\n",
       "      <td>Brooklyn</td>\n",
       "      <td>88</td>\n",
       "    </tr>\n",
       "    <tr>\n",
       "      <th>6704</th>\n",
       "      <td>246999028</td>\n",
       "      <td>2022-06-22</td>\n",
       "      <td>05:28:00</td>\n",
       "      <td>Bronx</td>\n",
       "      <td>41</td>\n",
       "    </tr>\n",
       "    <tr>\n",
       "      <th>6705</th>\n",
       "      <td>246825728</td>\n",
       "      <td>2022-06-18</td>\n",
       "      <td>03:29:00</td>\n",
       "      <td>Manhattan</td>\n",
       "      <td>32</td>\n",
       "    </tr>\n",
       "    <tr>\n",
       "      <th>6706</th>\n",
       "      <td>239861542</td>\n",
       "      <td>2022-01-28</td>\n",
       "      <td>18:14:00</td>\n",
       "      <td>Bronx</td>\n",
       "      <td>45</td>\n",
       "    </tr>\n",
       "  </tbody>\n",
       "</table>\n",
       "<p>6707 rows × 5 columns</p>\n",
       "</div>"
      ],
      "text/plain": [
       "      INCIDENT_KEY  OCCUR_DATE OCCUR_TIME       BORO  PRECINCT\n",
       "0        228798151  2021-05-27   21:30:00     Queens       105\n",
       "1        219559682  2020-10-21   21:36:00   Brooklyn        81\n",
       "2        234756217  2021-10-09   20:17:00   Brooklyn        71\n",
       "3        230311079  2021-07-01   02:44:00   Brooklyn        73\n",
       "4        225297069  2021-03-07   21:17:00   Brooklyn        71\n",
       "...            ...         ...        ...        ...       ...\n",
       "6702     244169758  2022-04-26   04:27:00      Bronx        42\n",
       "6703     249978889  2022-08-23   01:58:00   Brooklyn        88\n",
       "6704     246999028  2022-06-22   05:28:00      Bronx        41\n",
       "6705     246825728  2022-06-18   03:29:00  Manhattan        32\n",
       "6706     239861542  2022-01-28   18:14:00      Bronx        45\n",
       "\n",
       "[6707 rows x 5 columns]"
      ]
     },
     "execution_count": 62,
     "metadata": {},
     "output_type": "execute_result"
    }
   ],
   "source": [
    "result=pd.read_sql_query(query,connection)\n",
    "result"
   ]
  },
  {
   "cell_type": "markdown",
   "id": "6ad705b5",
   "metadata": {},
   "source": [
    "#### Column Variables\n",
    "\n",
    "- INCIDENT_KEY: The unique identifier for each Incident, the primary key of the table\n",
    "- OCCUR_DATE: The date of the incident, date format is Year-Month-Day\n",
    "- OCCUR_TIME: The time of the incident, military time format\n",
    "- BORO: The borough the incident occurred in\n",
    "- PRECINCT: NYC precinct, a precinct is a specific geographic area served by a police station, each of which is assigned a unique number"
   ]
  },
  {
   "cell_type": "markdown",
   "id": "b78d294d",
   "metadata": {},
   "source": [
    "### Questions I Wanted to Answer\n",
    "\n",
    "1. How many total reported shootings in NYC from 2017-2022? \n",
    "    - 1.1 How many shootings in each borough?\n",
    "2. How many total shootings each year from 2017-2022?\n",
    "    - 2.1 How many in each borough each year?\n",
    "3. Is there a monthly pattern in shootings (2017-2022)?\n",
    "4. What is the deadliest shooting incident from 2017-2022?\n",
    "5. What is the distribution of shootings by each hour in 2022?\n",
    "6. What is the distribution of shootings by victim and perpetrator demographics in 2022?\n",
    "7. What 5 precincts have the most shootings in 2022?"
   ]
  },
  {
   "cell_type": "markdown",
   "id": "7f160a40",
   "metadata": {},
   "source": [
    "### Question 1: Total number of shootings reported in this dataset? (2017-2022)"
   ]
  },
  {
   "cell_type": "code",
   "execution_count": 63,
   "id": "50661a43",
   "metadata": {},
   "outputs": [],
   "source": [
    "#query to get the total number of shootings \n",
    "query='''SELECT COUNT(1) AS Total_Shootings\n",
    "         FROM Shootings;'''"
   ]
  },
  {
   "cell_type": "code",
   "execution_count": 64,
   "id": "fa60ee28",
   "metadata": {
    "scrolled": true
   },
   "outputs": [
    {
     "data": {
      "text/html": [
       "<div>\n",
       "<style scoped>\n",
       "    .dataframe tbody tr th:only-of-type {\n",
       "        vertical-align: middle;\n",
       "    }\n",
       "\n",
       "    .dataframe tbody tr th {\n",
       "        vertical-align: top;\n",
       "    }\n",
       "\n",
       "    .dataframe thead th {\n",
       "        text-align: right;\n",
       "    }\n",
       "</style>\n",
       "<table border=\"1\" class=\"dataframe\">\n",
       "  <thead>\n",
       "    <tr style=\"text-align: right;\">\n",
       "      <th></th>\n",
       "      <th>Total_Shootings</th>\n",
       "    </tr>\n",
       "  </thead>\n",
       "  <tbody>\n",
       "    <tr>\n",
       "      <th>0</th>\n",
       "      <td>8570</td>\n",
       "    </tr>\n",
       "  </tbody>\n",
       "</table>\n",
       "</div>"
      ],
      "text/plain": [
       "   Total_Shootings\n",
       "0             8570"
      ]
     },
     "execution_count": 64,
     "metadata": {},
     "output_type": "execute_result"
    }
   ],
   "source": [
    "result=pd.read_sql_query(query,connection)\n",
    "result"
   ]
  },
  {
   "cell_type": "markdown",
   "id": "6842541e",
   "metadata": {},
   "source": [
    "There were 8,570 reported shootings in NYC in the years 2017-2022."
   ]
  },
  {
   "cell_type": "markdown",
   "id": "3e37eb1d",
   "metadata": {},
   "source": [
    "### Question 1.1: How many shootings in each borough?"
   ]
  },
  {
   "cell_type": "code",
   "execution_count": 65,
   "id": "7dd82047",
   "metadata": {},
   "outputs": [],
   "source": [
    "#query to retrieve number of shootings grouped by borough\n",
    "query='''SELECT i.BORO AS Borough, COUNT(1) AS Total_Shootings\n",
    "         FROM Incidents AS i\n",
    "         JOIN Shootings AS s\n",
    "         ON i.INCIDENT_KEY=s.INCIDENT_KEY\n",
    "         GROUP BY 1\n",
    "         ORDER BY 2;'''"
   ]
  },
  {
   "cell_type": "code",
   "execution_count": 66,
   "id": "a2aaff9b",
   "metadata": {},
   "outputs": [
    {
     "data": {
      "text/html": [
       "<div>\n",
       "<style scoped>\n",
       "    .dataframe tbody tr th:only-of-type {\n",
       "        vertical-align: middle;\n",
       "    }\n",
       "\n",
       "    .dataframe tbody tr th {\n",
       "        vertical-align: top;\n",
       "    }\n",
       "\n",
       "    .dataframe thead th {\n",
       "        text-align: right;\n",
       "    }\n",
       "</style>\n",
       "<table border=\"1\" class=\"dataframe\">\n",
       "  <thead>\n",
       "    <tr style=\"text-align: right;\">\n",
       "      <th></th>\n",
       "      <th>Borough</th>\n",
       "      <th>Total_Shootings</th>\n",
       "    </tr>\n",
       "  </thead>\n",
       "  <tbody>\n",
       "    <tr>\n",
       "      <th>0</th>\n",
       "      <td>Staten Island</td>\n",
       "      <td>227</td>\n",
       "    </tr>\n",
       "    <tr>\n",
       "      <th>1</th>\n",
       "      <td>Manhattan</td>\n",
       "      <td>1290</td>\n",
       "    </tr>\n",
       "    <tr>\n",
       "      <th>2</th>\n",
       "      <td>Queens</td>\n",
       "      <td>1315</td>\n",
       "    </tr>\n",
       "    <tr>\n",
       "      <th>3</th>\n",
       "      <td>Bronx</td>\n",
       "      <td>2626</td>\n",
       "    </tr>\n",
       "    <tr>\n",
       "      <th>4</th>\n",
       "      <td>Brooklyn</td>\n",
       "      <td>3112</td>\n",
       "    </tr>\n",
       "  </tbody>\n",
       "</table>\n",
       "</div>"
      ],
      "text/plain": [
       "         Borough  Total_Shootings\n",
       "0  Staten Island              227\n",
       "1      Manhattan             1290\n",
       "2         Queens             1315\n",
       "3          Bronx             2626\n",
       "4       Brooklyn             3112"
      ]
     },
     "execution_count": 66,
     "metadata": {},
     "output_type": "execute_result"
    }
   ],
   "source": [
    "result=pd.read_sql_query(query,connection)\n",
    "result"
   ]
  },
  {
   "cell_type": "code",
   "execution_count": 67,
   "id": "15e3a793",
   "metadata": {},
   "outputs": [
    {
     "data": {
      "image/png": "[encoded data removed]",
      "text/plain": [
       "<Figure size 800x600 with 1 Axes>"
      ]
     },
     "metadata": {},
     "output_type": "display_data"
    }
   ],
   "source": [
    "#plotting result of query that gets total number of shootings grouped by borough\n",
    "plt.figure(figsize=(8,6))\n",
    "ax=sns.barplot(x='Borough',y='Total_Shootings',data=result)\n",
    "plt.xlabel('Borough',fontsize=12,labelpad=12)\n",
    "plt.ylabel('Total Shootings',fontsize=12,labelpad=12)\n",
    "plt.title('Total Number of Shootings per Borough')\n",
    "for container in ax.containers:\n",
    "    ax.bar_label(container)\n",
    "\n",
    "plt.show()"
   ]
  },
  {
   "cell_type": "markdown",
   "id": "3757dde5",
   "metadata": {},
   "source": [
    "- Brooklyn had the most shootings with 3112\n",
    "- Bronx had the second most shootings with 2626\n",
    "- Queen had the third most shootings with 1315\n",
    "- Manhattan had the 4th most shootings with 1290\n",
    "- Staten Island had the least shootings with 227"
   ]
  },
  {
   "cell_type": "markdown",
   "id": "c6baf231",
   "metadata": {},
   "source": [
    "### Question 2: How many total shootings each year?"
   ]
  },
  {
   "cell_type": "code",
   "execution_count": 68,
   "id": "ec76e7bd",
   "metadata": {},
   "outputs": [],
   "source": [
    "#query to retrieve the total number of shootings each year\n",
    "query='''SELECT strftime('%Y',i.OCCUR_DATE) AS Year, COUNT(1) AS Total_Shootings\n",
    "         FROM INCIDENTS AS i\n",
    "         JOIN Shootings AS s\n",
    "         ON i.INCIDENT_KEY=s.INCIDENT_KEY\n",
    "         GROUP BY 1\n",
    "         ORDER BY 1;\n",
    "         '''"
   ]
  },
  {
   "cell_type": "code",
   "execution_count": 69,
   "id": "2f8ff5b4",
   "metadata": {},
   "outputs": [
    {
     "data": {
      "text/html": [
       "<div>\n",
       "<style scoped>\n",
       "    .dataframe tbody tr th:only-of-type {\n",
       "        vertical-align: middle;\n",
       "    }\n",
       "\n",
       "    .dataframe tbody tr th {\n",
       "        vertical-align: top;\n",
       "    }\n",
       "\n",
       "    .dataframe thead th {\n",
       "        text-align: right;\n",
       "    }\n",
       "</style>\n",
       "<table border=\"1\" class=\"dataframe\">\n",
       "  <thead>\n",
       "    <tr style=\"text-align: right;\">\n",
       "      <th></th>\n",
       "      <th>Year</th>\n",
       "      <th>Total_Shootings</th>\n",
       "    </tr>\n",
       "  </thead>\n",
       "  <tbody>\n",
       "    <tr>\n",
       "      <th>0</th>\n",
       "      <td>2017</td>\n",
       "      <td>970</td>\n",
       "    </tr>\n",
       "    <tr>\n",
       "      <th>1</th>\n",
       "      <td>2018</td>\n",
       "      <td>958</td>\n",
       "    </tr>\n",
       "    <tr>\n",
       "      <th>2</th>\n",
       "      <td>2019</td>\n",
       "      <td>967</td>\n",
       "    </tr>\n",
       "    <tr>\n",
       "      <th>3</th>\n",
       "      <td>2020</td>\n",
       "      <td>1948</td>\n",
       "    </tr>\n",
       "    <tr>\n",
       "      <th>4</th>\n",
       "      <td>2021</td>\n",
       "      <td>2011</td>\n",
       "    </tr>\n",
       "    <tr>\n",
       "      <th>5</th>\n",
       "      <td>2022</td>\n",
       "      <td>1716</td>\n",
       "    </tr>\n",
       "  </tbody>\n",
       "</table>\n",
       "</div>"
      ],
      "text/plain": [
       "   Year  Total_Shootings\n",
       "0  2017              970\n",
       "1  2018              958\n",
       "2  2019              967\n",
       "3  2020             1948\n",
       "4  2021             2011\n",
       "5  2022             1716"
      ]
     },
     "execution_count": 69,
     "metadata": {},
     "output_type": "execute_result"
    }
   ],
   "source": [
    "result=pd.read_sql_query(query,connection)\n",
    "result"
   ]
  },
  {
   "cell_type": "code",
   "execution_count": 70,
   "id": "9c5e77d9",
   "metadata": {},
   "outputs": [
    {
     "data": {
      "image/png": "[encoded data removed]",
      "text/plain": [
       "<Figure size 800x600 with 1 Axes>"
      ]
     },
     "metadata": {},
     "output_type": "display_data"
    }
   ],
   "source": [
    "#plotting result of query that retrieves total shootings each year\n",
    "plt.figure(figsize=(8,6))\n",
    "plt.plot(result['Year'],result['Total_Shootings'])\n",
    "plt.xlabel('Year')\n",
    "plt.ylabel('Total Shootings')\n",
    "plt.title('Number of Reported Shootings in NYC Each Year (2017-2022)')\n",
    "plt.grid(True)\n",
    "plt.show()"
   ]
  },
  {
   "cell_type": "markdown",
   "id": "7683ea32",
   "metadata": {},
   "source": [
    "In 2017-2019, the number of shootings was pretty constant being just below a 1,000. Then there was a huge spike in shootings in 2020 when the number of total shootings doubled. In 2021 there was a slight increase, and the shootings started dropping in 2022."
   ]
  },
  {
   "cell_type": "markdown",
   "id": "f15dcfe6",
   "metadata": {},
   "source": [
    "My hypothesis for the drastic increase in shootings between 2019 and 2020 is due to the Covid pandemic that hit NYC in 2020. It matches the timeline and also Covid has settled down now in 2022 which can explain the dip in shootings in 2022. It would make sense for shootings to spike during the pandemic since it limited police activity."
   ]
  },
  {
   "cell_type": "markdown",
   "id": "acca1971",
   "metadata": {},
   "source": [
    "### Question 2.1: How many shootings per borough for each year?"
   ]
  },
  {
   "cell_type": "code",
   "execution_count": 71,
   "id": "42770af1",
   "metadata": {},
   "outputs": [],
   "source": [
    "#query for the count of total shootings each year grouped by borough \n",
    "query='''SELECT i.BORO AS Borough,strftime('%Y',i.OCCUR_DATE) AS Year, COUNT(1) AS Total_Shootings\n",
    "         FROM Incidents AS i\n",
    "         JOIN Shootings AS s\n",
    "         ON i.INCIDENT_KEY=s.INCIDENT_KEY\n",
    "         GROUP BY 1,2\n",
    "         '''"
   ]
  },
  {
   "cell_type": "code",
   "execution_count": 72,
   "id": "c0b6119c",
   "metadata": {},
   "outputs": [
    {
     "data": {
      "text/html": [
       "<div>\n",
       "<style scoped>\n",
       "    .dataframe tbody tr th:only-of-type {\n",
       "        vertical-align: middle;\n",
       "    }\n",
       "\n",
       "    .dataframe tbody tr th {\n",
       "        vertical-align: top;\n",
       "    }\n",
       "\n",
       "    .dataframe thead th {\n",
       "        text-align: right;\n",
       "    }\n",
       "</style>\n",
       "<table border=\"1\" class=\"dataframe\">\n",
       "  <thead>\n",
       "    <tr style=\"text-align: right;\">\n",
       "      <th></th>\n",
       "      <th>Borough</th>\n",
       "      <th>Year</th>\n",
       "      <th>Total_Shootings</th>\n",
       "    </tr>\n",
       "  </thead>\n",
       "  <tbody>\n",
       "    <tr>\n",
       "      <th>0</th>\n",
       "      <td>Bronx</td>\n",
       "      <td>2017</td>\n",
       "      <td>306</td>\n",
       "    </tr>\n",
       "    <tr>\n",
       "      <th>1</th>\n",
       "      <td>Bronx</td>\n",
       "      <td>2018</td>\n",
       "      <td>313</td>\n",
       "    </tr>\n",
       "    <tr>\n",
       "      <th>2</th>\n",
       "      <td>Bronx</td>\n",
       "      <td>2019</td>\n",
       "      <td>267</td>\n",
       "    </tr>\n",
       "    <tr>\n",
       "      <th>3</th>\n",
       "      <td>Bronx</td>\n",
       "      <td>2020</td>\n",
       "      <td>504</td>\n",
       "    </tr>\n",
       "    <tr>\n",
       "      <th>4</th>\n",
       "      <td>Bronx</td>\n",
       "      <td>2021</td>\n",
       "      <td>701</td>\n",
       "    </tr>\n",
       "    <tr>\n",
       "      <th>5</th>\n",
       "      <td>Bronx</td>\n",
       "      <td>2022</td>\n",
       "      <td>535</td>\n",
       "    </tr>\n",
       "    <tr>\n",
       "      <th>6</th>\n",
       "      <td>Brooklyn</td>\n",
       "      <td>2017</td>\n",
       "      <td>357</td>\n",
       "    </tr>\n",
       "    <tr>\n",
       "      <th>7</th>\n",
       "      <td>Brooklyn</td>\n",
       "      <td>2018</td>\n",
       "      <td>365</td>\n",
       "    </tr>\n",
       "    <tr>\n",
       "      <th>8</th>\n",
       "      <td>Brooklyn</td>\n",
       "      <td>2019</td>\n",
       "      <td>372</td>\n",
       "    </tr>\n",
       "    <tr>\n",
       "      <th>9</th>\n",
       "      <td>Brooklyn</td>\n",
       "      <td>2020</td>\n",
       "      <td>819</td>\n",
       "    </tr>\n",
       "    <tr>\n",
       "      <th>10</th>\n",
       "      <td>Brooklyn</td>\n",
       "      <td>2021</td>\n",
       "      <td>631</td>\n",
       "    </tr>\n",
       "    <tr>\n",
       "      <th>11</th>\n",
       "      <td>Brooklyn</td>\n",
       "      <td>2022</td>\n",
       "      <td>568</td>\n",
       "    </tr>\n",
       "    <tr>\n",
       "      <th>12</th>\n",
       "      <td>Manhattan</td>\n",
       "      <td>2017</td>\n",
       "      <td>117</td>\n",
       "    </tr>\n",
       "    <tr>\n",
       "      <th>13</th>\n",
       "      <td>Manhattan</td>\n",
       "      <td>2018</td>\n",
       "      <td>105</td>\n",
       "    </tr>\n",
       "    <tr>\n",
       "      <th>14</th>\n",
       "      <td>Manhattan</td>\n",
       "      <td>2019</td>\n",
       "      <td>146</td>\n",
       "    </tr>\n",
       "    <tr>\n",
       "      <th>15</th>\n",
       "      <td>Manhattan</td>\n",
       "      <td>2020</td>\n",
       "      <td>272</td>\n",
       "    </tr>\n",
       "    <tr>\n",
       "      <th>16</th>\n",
       "      <td>Manhattan</td>\n",
       "      <td>2021</td>\n",
       "      <td>343</td>\n",
       "    </tr>\n",
       "    <tr>\n",
       "      <th>17</th>\n",
       "      <td>Manhattan</td>\n",
       "      <td>2022</td>\n",
       "      <td>307</td>\n",
       "    </tr>\n",
       "    <tr>\n",
       "      <th>18</th>\n",
       "      <td>Queens</td>\n",
       "      <td>2017</td>\n",
       "      <td>144</td>\n",
       "    </tr>\n",
       "    <tr>\n",
       "      <th>19</th>\n",
       "      <td>Queens</td>\n",
       "      <td>2018</td>\n",
       "      <td>150</td>\n",
       "    </tr>\n",
       "    <tr>\n",
       "      <th>20</th>\n",
       "      <td>Queens</td>\n",
       "      <td>2019</td>\n",
       "      <td>156</td>\n",
       "    </tr>\n",
       "    <tr>\n",
       "      <th>21</th>\n",
       "      <td>Queens</td>\n",
       "      <td>2020</td>\n",
       "      <td>303</td>\n",
       "    </tr>\n",
       "    <tr>\n",
       "      <th>22</th>\n",
       "      <td>Queens</td>\n",
       "      <td>2021</td>\n",
       "      <td>296</td>\n",
       "    </tr>\n",
       "    <tr>\n",
       "      <th>23</th>\n",
       "      <td>Queens</td>\n",
       "      <td>2022</td>\n",
       "      <td>266</td>\n",
       "    </tr>\n",
       "    <tr>\n",
       "      <th>24</th>\n",
       "      <td>Staten Island</td>\n",
       "      <td>2017</td>\n",
       "      <td>46</td>\n",
       "    </tr>\n",
       "    <tr>\n",
       "      <th>25</th>\n",
       "      <td>Staten Island</td>\n",
       "      <td>2018</td>\n",
       "      <td>25</td>\n",
       "    </tr>\n",
       "    <tr>\n",
       "      <th>26</th>\n",
       "      <td>Staten Island</td>\n",
       "      <td>2019</td>\n",
       "      <td>26</td>\n",
       "    </tr>\n",
       "    <tr>\n",
       "      <th>27</th>\n",
       "      <td>Staten Island</td>\n",
       "      <td>2020</td>\n",
       "      <td>50</td>\n",
       "    </tr>\n",
       "    <tr>\n",
       "      <th>28</th>\n",
       "      <td>Staten Island</td>\n",
       "      <td>2021</td>\n",
       "      <td>40</td>\n",
       "    </tr>\n",
       "    <tr>\n",
       "      <th>29</th>\n",
       "      <td>Staten Island</td>\n",
       "      <td>2022</td>\n",
       "      <td>40</td>\n",
       "    </tr>\n",
       "  </tbody>\n",
       "</table>\n",
       "</div>"
      ],
      "text/plain": [
       "          Borough  Year  Total_Shootings\n",
       "0           Bronx  2017              306\n",
       "1           Bronx  2018              313\n",
       "2           Bronx  2019              267\n",
       "3           Bronx  2020              504\n",
       "4           Bronx  2021              701\n",
       "5           Bronx  2022              535\n",
       "6        Brooklyn  2017              357\n",
       "7        Brooklyn  2018              365\n",
       "8        Brooklyn  2019              372\n",
       "9        Brooklyn  2020              819\n",
       "10       Brooklyn  2021              631\n",
       "11       Brooklyn  2022              568\n",
       "12      Manhattan  2017              117\n",
       "13      Manhattan  2018              105\n",
       "14      Manhattan  2019              146\n",
       "15      Manhattan  2020              272\n",
       "16      Manhattan  2021              343\n",
       "17      Manhattan  2022              307\n",
       "18         Queens  2017              144\n",
       "19         Queens  2018              150\n",
       "20         Queens  2019              156\n",
       "21         Queens  2020              303\n",
       "22         Queens  2021              296\n",
       "23         Queens  2022              266\n",
       "24  Staten Island  2017               46\n",
       "25  Staten Island  2018               25\n",
       "26  Staten Island  2019               26\n",
       "27  Staten Island  2020               50\n",
       "28  Staten Island  2021               40\n",
       "29  Staten Island  2022               40"
      ]
     },
     "execution_count": 72,
     "metadata": {},
     "output_type": "execute_result"
    }
   ],
   "source": [
    "result=pd.read_sql_query(query,connection)\n",
    "result"
   ]
  },
  {
   "cell_type": "code",
   "execution_count": 73,
   "id": "7c2ac2b4",
   "metadata": {},
   "outputs": [
    {
     "data": {
      "image/png": "[encoded data removed]",
      "text/plain": [
       "<Figure size 640x480 with 1 Axes>"
      ]
     },
     "metadata": {},
     "output_type": "display_data"
    }
   ],
   "source": [
    "#plotting the result of query that gets the total shootings each year by borough\n",
    "sns.barplot(data=result,x='Borough',y='Total_Shootings',hue='Year')\n",
    "plt.xlabel('Borough')\n",
    "plt.ylabel('Total Shootings')\n",
    "plt.title('Total Shootings In Each Borough Per Year')\n",
    "plt.show()"
   ]
  },
  {
   "cell_type": "markdown",
   "id": "b9bcd19b",
   "metadata": {},
   "source": [
    "For the first 3 years in Bronx, Brooklyn, Manhattan and Queens, the number of shootings are pretty still (no drastic changes). Then for 2020, there is a noticeable increase in the number of shootings (especially for Brooklyn, more than double the shootings from 2019). For the boroughs 2020 or 2021 is the peak year with the most shootings, and in 2022 the numbers starts to drop. This behaviour follows the same pattern as our previous line graph that showed number of shootings over the years. Staten Island is the only case that is different since it doesn't have many shootings each year so the shooting numbers don't experience any drastic changes."
   ]
  },
  {
   "cell_type": "markdown",
   "id": "8096a478",
   "metadata": {},
   "source": [
    "### Question 3: Is there a monthly pattern in shootings for each year?"
   ]
  },
  {
   "cell_type": "code",
   "execution_count": 74,
   "id": "a9a8d3ac",
   "metadata": {},
   "outputs": [],
   "source": [
    "#query to group total shootings by year,month\n",
    "query =\"\"\"\n",
    "    SELECT strftime('%Y',i.OCCUR_DATE) AS Year,strftime('%m',i.OCCUR_DATE) AS Month, COUNT(1) AS Total_Shootings\n",
    "    FROM Incidents AS i\n",
    "    JOIN Shootings AS s\n",
    "    ON i.INCIDENT_KEY=s.INCIDENT_KEY\n",
    "    GROUP BY 1,2\n",
    "    ORDER BY 1,2;\n",
    "    \"\"\""
   ]
  },
  {
   "cell_type": "code",
   "execution_count": 75,
   "id": "6fb8a4c4",
   "metadata": {},
   "outputs": [
    {
     "data": {
      "text/html": [
       "<div>\n",
       "<style scoped>\n",
       "    .dataframe tbody tr th:only-of-type {\n",
       "        vertical-align: middle;\n",
       "    }\n",
       "\n",
       "    .dataframe tbody tr th {\n",
       "        vertical-align: top;\n",
       "    }\n",
       "\n",
       "    .dataframe thead th {\n",
       "        text-align: right;\n",
       "    }\n",
       "</style>\n",
       "<table border=\"1\" class=\"dataframe\">\n",
       "  <thead>\n",
       "    <tr style=\"text-align: right;\">\n",
       "      <th></th>\n",
       "      <th>Year</th>\n",
       "      <th>Month</th>\n",
       "      <th>Total_Shootings</th>\n",
       "    </tr>\n",
       "  </thead>\n",
       "  <tbody>\n",
       "    <tr>\n",
       "      <th>0</th>\n",
       "      <td>2017</td>\n",
       "      <td>01</td>\n",
       "      <td>68</td>\n",
       "    </tr>\n",
       "    <tr>\n",
       "      <th>1</th>\n",
       "      <td>2017</td>\n",
       "      <td>02</td>\n",
       "      <td>48</td>\n",
       "    </tr>\n",
       "    <tr>\n",
       "      <th>2</th>\n",
       "      <td>2017</td>\n",
       "      <td>03</td>\n",
       "      <td>56</td>\n",
       "    </tr>\n",
       "    <tr>\n",
       "      <th>3</th>\n",
       "      <td>2017</td>\n",
       "      <td>04</td>\n",
       "      <td>81</td>\n",
       "    </tr>\n",
       "    <tr>\n",
       "      <th>4</th>\n",
       "      <td>2017</td>\n",
       "      <td>05</td>\n",
       "      <td>88</td>\n",
       "    </tr>\n",
       "    <tr>\n",
       "      <th>...</th>\n",
       "      <td>...</td>\n",
       "      <td>...</td>\n",
       "      <td>...</td>\n",
       "    </tr>\n",
       "    <tr>\n",
       "      <th>67</th>\n",
       "      <td>2022</td>\n",
       "      <td>08</td>\n",
       "      <td>154</td>\n",
       "    </tr>\n",
       "    <tr>\n",
       "      <th>68</th>\n",
       "      <td>2022</td>\n",
       "      <td>09</td>\n",
       "      <td>156</td>\n",
       "    </tr>\n",
       "    <tr>\n",
       "      <th>69</th>\n",
       "      <td>2022</td>\n",
       "      <td>10</td>\n",
       "      <td>103</td>\n",
       "    </tr>\n",
       "    <tr>\n",
       "      <th>70</th>\n",
       "      <td>2022</td>\n",
       "      <td>11</td>\n",
       "      <td>101</td>\n",
       "    </tr>\n",
       "    <tr>\n",
       "      <th>71</th>\n",
       "      <td>2022</td>\n",
       "      <td>12</td>\n",
       "      <td>102</td>\n",
       "    </tr>\n",
       "  </tbody>\n",
       "</table>\n",
       "<p>72 rows × 3 columns</p>\n",
       "</div>"
      ],
      "text/plain": [
       "    Year Month  Total_Shootings\n",
       "0   2017    01               68\n",
       "1   2017    02               48\n",
       "2   2017    03               56\n",
       "3   2017    04               81\n",
       "4   2017    05               88\n",
       "..   ...   ...              ...\n",
       "67  2022    08              154\n",
       "68  2022    09              156\n",
       "69  2022    10              103\n",
       "70  2022    11              101\n",
       "71  2022    12              102\n",
       "\n",
       "[72 rows x 3 columns]"
      ]
     },
     "execution_count": 75,
     "metadata": {},
     "output_type": "execute_result"
    }
   ],
   "source": [
    "result=pd.read_sql_query(query,connection)\n",
    "result"
   ]
  },
  {
   "cell_type": "code",
   "execution_count": 76,
   "id": "bc18d371",
   "metadata": {},
   "outputs": [
    {
     "data": {
      "image/png": "[encoded data removed]",
      "text/plain": [
       "<Figure size 900x600 with 6 Axes>"
      ]
     },
     "metadata": {},
     "output_type": "display_data"
    }
   ],
   "source": [
    "#using the result query to create subplots for each year, each subplot contains shootings for each month\n",
    "g = sns.FacetGrid(result, col=\"Year\", col_wrap=3)\n",
    "g.map_dataframe(sns.lineplot, x=\"Month\", y=\"Total_Shootings\")\n",
    "g.set_axis_labels(\"Month\", \"Total Shootings\")\n",
    "g.set_titles(\"Year {col_name}\")\n",
    "g.map(plt.grid, linestyle='-', alpha=0.2)\n",
    "plt.tight_layout()\n",
    "\n",
    "plt.show()\n"
   ]
  },
  {
   "cell_type": "markdown",
   "id": "de605864",
   "metadata": {},
   "source": [
    "There is a very noticeable bellcurve like pattern in all the graphs. This is probably due to the fact that the number of shootings starts off low in Janurary and increases till it peaks around July. After the peak the shootings start to decrease again, and by the end of the year the number of shootings is relativley similar to what it was at the start of the year.  \n",
    "\n",
    "The only difference is the first three years there are a lot less shootings so line lays towards the lower end of the graph and the peak is a lot shorter than the last three years. \n",
    "\n",
    "Summer season is definitely when shootings peak while winter season is the lowest point in terms of shootings. Fall season is when shootings start to fall off after the peak while Spring season is the time when shootings start to slowly increase towards the peak."
   ]
  },
  {
   "cell_type": "markdown",
   "id": "badee8bf",
   "metadata": {},
   "source": [
    "### Question 4: What is the deadliest shooting incident/incidents?"
   ]
  },
  {
   "cell_type": "markdown",
   "id": "42d48353",
   "metadata": {},
   "source": [
    "What I consider as the deadliest shooting incident is the incident resulting in the most number of deaths. I will consider two or more incidents that have the same number of deaths but also the highest deaths all to be considered the deadliest shooting incident. In order to do this I will be using the dense rank function to account for ties at number 1. So there might be more than one \"deadliest shooting incident\"."
   ]
  },
  {
   "cell_type": "code",
   "execution_count": 77,
   "id": "4de82993",
   "metadata": {},
   "outputs": [],
   "source": [
    "#query that gets the incident key and number of deaths ordered in descending order by number of deaths\n",
    "query='''SELECT INCIDENT_KEY,COUNT(1) AS Deaths\n",
    "         FROM Shootings\n",
    "         WHERE STATISTICAL_MURDER_FLAG==1\n",
    "         GROUP BY 1\n",
    "         ORDER BY 2 DESC\n",
    "         '''"
   ]
  },
  {
   "cell_type": "code",
   "execution_count": 78,
   "id": "06e92ac8",
   "metadata": {},
   "outputs": [
    {
     "data": {
      "text/html": [
       "<div>\n",
       "<style scoped>\n",
       "    .dataframe tbody tr th:only-of-type {\n",
       "        vertical-align: middle;\n",
       "    }\n",
       "\n",
       "    .dataframe tbody tr th {\n",
       "        vertical-align: top;\n",
       "    }\n",
       "\n",
       "    .dataframe thead th {\n",
       "        text-align: right;\n",
       "    }\n",
       "</style>\n",
       "<table border=\"1\" class=\"dataframe\">\n",
       "  <thead>\n",
       "    <tr style=\"text-align: right;\">\n",
       "      <th></th>\n",
       "      <th>INCIDENT_KEY</th>\n",
       "      <th>Deaths</th>\n",
       "    </tr>\n",
       "  </thead>\n",
       "  <tbody>\n",
       "    <tr>\n",
       "      <th>0</th>\n",
       "      <td>173354054</td>\n",
       "      <td>9</td>\n",
       "    </tr>\n",
       "    <tr>\n",
       "      <th>1</th>\n",
       "      <td>244608249</td>\n",
       "      <td>6</td>\n",
       "    </tr>\n",
       "    <tr>\n",
       "      <th>2</th>\n",
       "      <td>215776333</td>\n",
       "      <td>6</td>\n",
       "    </tr>\n",
       "    <tr>\n",
       "      <th>3</th>\n",
       "      <td>215034244</td>\n",
       "      <td>6</td>\n",
       "    </tr>\n",
       "    <tr>\n",
       "      <th>4</th>\n",
       "      <td>212640102</td>\n",
       "      <td>6</td>\n",
       "    </tr>\n",
       "    <tr>\n",
       "      <th>...</th>\n",
       "      <td>...</td>\n",
       "      <td>...</td>\n",
       "    </tr>\n",
       "    <tr>\n",
       "      <th>1283</th>\n",
       "      <td>161644004</td>\n",
       "      <td>1</td>\n",
       "    </tr>\n",
       "    <tr>\n",
       "      <th>1284</th>\n",
       "      <td>161644003</td>\n",
       "      <td>1</td>\n",
       "    </tr>\n",
       "    <tr>\n",
       "      <th>1285</th>\n",
       "      <td>161448634</td>\n",
       "      <td>1</td>\n",
       "    </tr>\n",
       "    <tr>\n",
       "      <th>1286</th>\n",
       "      <td>161078122</td>\n",
       "      <td>1</td>\n",
       "    </tr>\n",
       "    <tr>\n",
       "      <th>1287</th>\n",
       "      <td>160861308</td>\n",
       "      <td>1</td>\n",
       "    </tr>\n",
       "  </tbody>\n",
       "</table>\n",
       "<p>1288 rows × 2 columns</p>\n",
       "</div>"
      ],
      "text/plain": [
       "      INCIDENT_KEY  Deaths\n",
       "0        173354054       9\n",
       "1        244608249       6\n",
       "2        215776333       6\n",
       "3        215034244       6\n",
       "4        212640102       6\n",
       "...            ...     ...\n",
       "1283     161644004       1\n",
       "1284     161644003       1\n",
       "1285     161448634       1\n",
       "1286     161078122       1\n",
       "1287     160861308       1\n",
       "\n",
       "[1288 rows x 2 columns]"
      ]
     },
     "execution_count": 78,
     "metadata": {},
     "output_type": "execute_result"
    }
   ],
   "source": [
    "result=pd.read_sql_query(query,connection)\n",
    "result"
   ]
  },
  {
   "cell_type": "code",
   "execution_count": 79,
   "id": "57a3bd74",
   "metadata": {},
   "outputs": [],
   "source": [
    "#creating a rank column for the result, that uses dense rank over deaths in descending order\n",
    "result['Rank']=result['Deaths'].rank(method='dense',ascending=False)"
   ]
  },
  {
   "cell_type": "code",
   "execution_count": 80,
   "id": "761ab02e",
   "metadata": {},
   "outputs": [
    {
     "data": {
      "text/html": [
       "<div>\n",
       "<style scoped>\n",
       "    .dataframe tbody tr th:only-of-type {\n",
       "        vertical-align: middle;\n",
       "    }\n",
       "\n",
       "    .dataframe tbody tr th {\n",
       "        vertical-align: top;\n",
       "    }\n",
       "\n",
       "    .dataframe thead th {\n",
       "        text-align: right;\n",
       "    }\n",
       "</style>\n",
       "<table border=\"1\" class=\"dataframe\">\n",
       "  <thead>\n",
       "    <tr style=\"text-align: right;\">\n",
       "      <th></th>\n",
       "      <th>INCIDENT_KEY</th>\n",
       "      <th>Deaths</th>\n",
       "      <th>Rank</th>\n",
       "    </tr>\n",
       "  </thead>\n",
       "  <tbody>\n",
       "    <tr>\n",
       "      <th>0</th>\n",
       "      <td>173354054</td>\n",
       "      <td>9</td>\n",
       "      <td>1.0</td>\n",
       "    </tr>\n",
       "    <tr>\n",
       "      <th>1</th>\n",
       "      <td>244608249</td>\n",
       "      <td>6</td>\n",
       "      <td>2.0</td>\n",
       "    </tr>\n",
       "    <tr>\n",
       "      <th>2</th>\n",
       "      <td>215776333</td>\n",
       "      <td>6</td>\n",
       "      <td>2.0</td>\n",
       "    </tr>\n",
       "    <tr>\n",
       "      <th>3</th>\n",
       "      <td>215034244</td>\n",
       "      <td>6</td>\n",
       "      <td>2.0</td>\n",
       "    </tr>\n",
       "    <tr>\n",
       "      <th>4</th>\n",
       "      <td>212640102</td>\n",
       "      <td>6</td>\n",
       "      <td>2.0</td>\n",
       "    </tr>\n",
       "    <tr>\n",
       "      <th>...</th>\n",
       "      <td>...</td>\n",
       "      <td>...</td>\n",
       "      <td>...</td>\n",
       "    </tr>\n",
       "    <tr>\n",
       "      <th>1283</th>\n",
       "      <td>161644004</td>\n",
       "      <td>1</td>\n",
       "      <td>7.0</td>\n",
       "    </tr>\n",
       "    <tr>\n",
       "      <th>1284</th>\n",
       "      <td>161644003</td>\n",
       "      <td>1</td>\n",
       "      <td>7.0</td>\n",
       "    </tr>\n",
       "    <tr>\n",
       "      <th>1285</th>\n",
       "      <td>161448634</td>\n",
       "      <td>1</td>\n",
       "      <td>7.0</td>\n",
       "    </tr>\n",
       "    <tr>\n",
       "      <th>1286</th>\n",
       "      <td>161078122</td>\n",
       "      <td>1</td>\n",
       "      <td>7.0</td>\n",
       "    </tr>\n",
       "    <tr>\n",
       "      <th>1287</th>\n",
       "      <td>160861308</td>\n",
       "      <td>1</td>\n",
       "      <td>7.0</td>\n",
       "    </tr>\n",
       "  </tbody>\n",
       "</table>\n",
       "<p>1288 rows × 3 columns</p>\n",
       "</div>"
      ],
      "text/plain": [
       "      INCIDENT_KEY  Deaths  Rank\n",
       "0        173354054       9   1.0\n",
       "1        244608249       6   2.0\n",
       "2        215776333       6   2.0\n",
       "3        215034244       6   2.0\n",
       "4        212640102       6   2.0\n",
       "...            ...     ...   ...\n",
       "1283     161644004       1   7.0\n",
       "1284     161644003       1   7.0\n",
       "1285     161448634       1   7.0\n",
       "1286     161078122       1   7.0\n",
       "1287     160861308       1   7.0\n",
       "\n",
       "[1288 rows x 3 columns]"
      ]
     },
     "execution_count": 80,
     "metadata": {},
     "output_type": "execute_result"
    }
   ],
   "source": [
    "result"
   ]
  },
  {
   "cell_type": "code",
   "execution_count": 81,
   "id": "b356f9af",
   "metadata": {},
   "outputs": [
    {
     "data": {
      "text/html": [
       "<div>\n",
       "<style scoped>\n",
       "    .dataframe tbody tr th:only-of-type {\n",
       "        vertical-align: middle;\n",
       "    }\n",
       "\n",
       "    .dataframe tbody tr th {\n",
       "        vertical-align: top;\n",
       "    }\n",
       "\n",
       "    .dataframe thead th {\n",
       "        text-align: right;\n",
       "    }\n",
       "</style>\n",
       "<table border=\"1\" class=\"dataframe\">\n",
       "  <thead>\n",
       "    <tr style=\"text-align: right;\">\n",
       "      <th></th>\n",
       "      <th>INCIDENT_KEY</th>\n",
       "      <th>Deaths</th>\n",
       "      <th>Rank</th>\n",
       "    </tr>\n",
       "  </thead>\n",
       "  <tbody>\n",
       "    <tr>\n",
       "      <th>0</th>\n",
       "      <td>173354054</td>\n",
       "      <td>9</td>\n",
       "      <td>1.0</td>\n",
       "    </tr>\n",
       "  </tbody>\n",
       "</table>\n",
       "</div>"
      ],
      "text/plain": [
       "   INCIDENT_KEY  Deaths  Rank\n",
       "0     173354054       9   1.0"
      ]
     },
     "execution_count": 81,
     "metadata": {},
     "output_type": "execute_result"
    }
   ],
   "source": [
    "#filtering to only row/rows with rank 1, in order to get the incident key/keys for the deadliest shooting\n",
    "#incident/incidents\n",
    "result=result[result['Rank']==1]\n",
    "result"
   ]
  },
  {
   "cell_type": "markdown",
   "id": "a7495348",
   "metadata": {},
   "source": [
    "Only one incident was ranked number 1, so there were no ties for deadliest incident"
   ]
  },
  {
   "cell_type": "code",
   "execution_count": 82,
   "id": "4495f2fe",
   "metadata": {},
   "outputs": [
    {
     "data": {
      "text/plain": [
       "1"
      ]
     },
     "execution_count": 82,
     "metadata": {},
     "output_type": "execute_result"
    }
   ],
   "source": [
    "#creating a sqlite table called Deadliest_Incident from the previous result dataframe that contains the \n",
    "#incident key and deaths for the deadliest shooting incident\n",
    "\n",
    "table_name='Deadliest_Incident'\n",
    "result.to_sql(table_name, connection, if_exists='replace', index=False)"
   ]
  },
  {
   "cell_type": "code",
   "execution_count": 83,
   "id": "afc66a4f",
   "metadata": {},
   "outputs": [],
   "source": [
    "#query that gets the date/time,location,total_victims and deaths for the deadliest incident\n",
    "#by joining the Incidents,Deadliest_Incident and Shootings tables.\n",
    "query='''SELECT i.OCCUR_DATE,i.OCCUR_TIME,i.BORO,i.PRECINCT,d.Deaths,\n",
    "    COUNT(1) AS Total_Victims\n",
    "    FROM Incidents AS i\n",
    "    JOIN Deadliest_Incident AS d\n",
    "    ON i.INCIDENT_KEY=d.INCIDENT_KEY\n",
    "    JOIN Shootings AS s\n",
    "    ON d.INCIDENT_KEY=s.INCIDENT_KEY\n",
    "    '''\n",
    "         \n",
    "        "
   ]
  },
  {
   "cell_type": "code",
   "execution_count": 84,
   "id": "f14357d9",
   "metadata": {},
   "outputs": [
    {
     "data": {
      "text/html": [
       "<div>\n",
       "<style scoped>\n",
       "    .dataframe tbody tr th:only-of-type {\n",
       "        vertical-align: middle;\n",
       "    }\n",
       "\n",
       "    .dataframe tbody tr th {\n",
       "        vertical-align: top;\n",
       "    }\n",
       "\n",
       "    .dataframe thead th {\n",
       "        text-align: right;\n",
       "    }\n",
       "</style>\n",
       "<table border=\"1\" class=\"dataframe\">\n",
       "  <thead>\n",
       "    <tr style=\"text-align: right;\">\n",
       "      <th></th>\n",
       "      <th>OCCUR_DATE</th>\n",
       "      <th>OCCUR_TIME</th>\n",
       "      <th>BORO</th>\n",
       "      <th>PRECINCT</th>\n",
       "      <th>Deaths</th>\n",
       "      <th>Total_Victims</th>\n",
       "    </tr>\n",
       "  </thead>\n",
       "  <tbody>\n",
       "    <tr>\n",
       "      <th>0</th>\n",
       "      <td>2018-01-06</td>\n",
       "      <td>21:05:00</td>\n",
       "      <td>Bronx</td>\n",
       "      <td>47</td>\n",
       "      <td>9</td>\n",
       "      <td>18</td>\n",
       "    </tr>\n",
       "  </tbody>\n",
       "</table>\n",
       "</div>"
      ],
      "text/plain": [
       "   OCCUR_DATE OCCUR_TIME   BORO  PRECINCT  Deaths  Total_Victims\n",
       "0  2018-01-06   21:05:00  Bronx        47       9             18"
      ]
     },
     "execution_count": 84,
     "metadata": {},
     "output_type": "execute_result"
    }
   ],
   "source": [
    "result=pd.read_sql_query(query,connection)\n",
    "result"
   ]
  },
  {
   "cell_type": "markdown",
   "id": "5b84a107",
   "metadata": {},
   "source": [
    "The deadliest shooting in NYC in the years (2017-2022) occurred on Janurary 6, 2018 at around 9:05pm in the Bronx. There were 18 total victims and 9 them of died. The incident occurred in the 47th precinct which serves the northern portion of the Bronx, which includes neighborhoods like Woodlawn, Willaimsbridge, Baychester and Woodlawn Cemetary."
   ]
  },
  {
   "cell_type": "markdown",
   "id": "26824909",
   "metadata": {},
   "source": [
    "### Question 5: What is the distribution of shootings by hour for 2022?"
   ]
  },
  {
   "cell_type": "code",
   "execution_count": 85,
   "id": "03a7c0d7",
   "metadata": {},
   "outputs": [],
   "source": [
    "#query to retrieve total shootings grouped by hour \n",
    "query='''SELECT strftime('%H',i.OCCUR_TIME) AS Hour, COUNT(1) AS Total_Shootings\n",
    "         FROM Incidents AS i\n",
    "         JOIN Shootings AS s\n",
    "         ON i.INCIDENT_KEY=s.INCIDENT_KEY\n",
    "         WHERE strftime('%Y',i.OCCUR_DATE)=='2022'\n",
    "         GROUP BY 1'''"
   ]
  },
  {
   "cell_type": "code",
   "execution_count": 86,
   "id": "aa82fb72",
   "metadata": {},
   "outputs": [
    {
     "data": {
      "text/html": [
       "<div>\n",
       "<style scoped>\n",
       "    .dataframe tbody tr th:only-of-type {\n",
       "        vertical-align: middle;\n",
       "    }\n",
       "\n",
       "    .dataframe tbody tr th {\n",
       "        vertical-align: top;\n",
       "    }\n",
       "\n",
       "    .dataframe thead th {\n",
       "        text-align: right;\n",
       "    }\n",
       "</style>\n",
       "<table border=\"1\" class=\"dataframe\">\n",
       "  <thead>\n",
       "    <tr style=\"text-align: right;\">\n",
       "      <th></th>\n",
       "      <th>Hour</th>\n",
       "      <th>Total_Shootings</th>\n",
       "    </tr>\n",
       "  </thead>\n",
       "  <tbody>\n",
       "    <tr>\n",
       "      <th>0</th>\n",
       "      <td>00</td>\n",
       "      <td>133</td>\n",
       "    </tr>\n",
       "    <tr>\n",
       "      <th>1</th>\n",
       "      <td>01</td>\n",
       "      <td>99</td>\n",
       "    </tr>\n",
       "    <tr>\n",
       "      <th>2</th>\n",
       "      <td>02</td>\n",
       "      <td>85</td>\n",
       "    </tr>\n",
       "    <tr>\n",
       "      <th>3</th>\n",
       "      <td>03</td>\n",
       "      <td>89</td>\n",
       "    </tr>\n",
       "    <tr>\n",
       "      <th>4</th>\n",
       "      <td>04</td>\n",
       "      <td>67</td>\n",
       "    </tr>\n",
       "    <tr>\n",
       "      <th>5</th>\n",
       "      <td>05</td>\n",
       "      <td>35</td>\n",
       "    </tr>\n",
       "    <tr>\n",
       "      <th>6</th>\n",
       "      <td>06</td>\n",
       "      <td>34</td>\n",
       "    </tr>\n",
       "    <tr>\n",
       "      <th>7</th>\n",
       "      <td>07</td>\n",
       "      <td>11</td>\n",
       "    </tr>\n",
       "    <tr>\n",
       "      <th>8</th>\n",
       "      <td>08</td>\n",
       "      <td>32</td>\n",
       "    </tr>\n",
       "    <tr>\n",
       "      <th>9</th>\n",
       "      <td>09</td>\n",
       "      <td>18</td>\n",
       "    </tr>\n",
       "    <tr>\n",
       "      <th>10</th>\n",
       "      <td>10</td>\n",
       "      <td>31</td>\n",
       "    </tr>\n",
       "    <tr>\n",
       "      <th>11</th>\n",
       "      <td>11</td>\n",
       "      <td>27</td>\n",
       "    </tr>\n",
       "    <tr>\n",
       "      <th>12</th>\n",
       "      <td>12</td>\n",
       "      <td>28</td>\n",
       "    </tr>\n",
       "    <tr>\n",
       "      <th>13</th>\n",
       "      <td>13</td>\n",
       "      <td>79</td>\n",
       "    </tr>\n",
       "    <tr>\n",
       "      <th>14</th>\n",
       "      <td>14</td>\n",
       "      <td>53</td>\n",
       "    </tr>\n",
       "    <tr>\n",
       "      <th>15</th>\n",
       "      <td>15</td>\n",
       "      <td>70</td>\n",
       "    </tr>\n",
       "    <tr>\n",
       "      <th>16</th>\n",
       "      <td>16</td>\n",
       "      <td>66</td>\n",
       "    </tr>\n",
       "    <tr>\n",
       "      <th>17</th>\n",
       "      <td>17</td>\n",
       "      <td>60</td>\n",
       "    </tr>\n",
       "    <tr>\n",
       "      <th>18</th>\n",
       "      <td>18</td>\n",
       "      <td>108</td>\n",
       "    </tr>\n",
       "    <tr>\n",
       "      <th>19</th>\n",
       "      <td>19</td>\n",
       "      <td>113</td>\n",
       "    </tr>\n",
       "    <tr>\n",
       "      <th>20</th>\n",
       "      <td>20</td>\n",
       "      <td>111</td>\n",
       "    </tr>\n",
       "    <tr>\n",
       "      <th>21</th>\n",
       "      <td>21</td>\n",
       "      <td>113</td>\n",
       "    </tr>\n",
       "    <tr>\n",
       "      <th>22</th>\n",
       "      <td>22</td>\n",
       "      <td>140</td>\n",
       "    </tr>\n",
       "    <tr>\n",
       "      <th>23</th>\n",
       "      <td>23</td>\n",
       "      <td>114</td>\n",
       "    </tr>\n",
       "  </tbody>\n",
       "</table>\n",
       "</div>"
      ],
      "text/plain": [
       "   Hour  Total_Shootings\n",
       "0    00              133\n",
       "1    01               99\n",
       "2    02               85\n",
       "3    03               89\n",
       "4    04               67\n",
       "5    05               35\n",
       "6    06               34\n",
       "7    07               11\n",
       "8    08               32\n",
       "9    09               18\n",
       "10   10               31\n",
       "11   11               27\n",
       "12   12               28\n",
       "13   13               79\n",
       "14   14               53\n",
       "15   15               70\n",
       "16   16               66\n",
       "17   17               60\n",
       "18   18              108\n",
       "19   19              113\n",
       "20   20              111\n",
       "21   21              113\n",
       "22   22              140\n",
       "23   23              114"
      ]
     },
     "execution_count": 86,
     "metadata": {},
     "output_type": "execute_result"
    }
   ],
   "source": [
    "result=pd.read_sql_query(query,connection)\n",
    "result"
   ]
  },
  {
   "cell_type": "code",
   "execution_count": 87,
   "id": "1d21e357",
   "metadata": {},
   "outputs": [
    {
     "data": {
      "image/png": "[encoded data removed]",
      "text/plain": [
       "<Figure size 1000x600 with 1 Axes>"
      ]
     },
     "metadata": {},
     "output_type": "display_data"
    }
   ],
   "source": [
    "#plotting the result of query that retreives total shootings by hour\n",
    "plt.figure(figsize=(10,6))\n",
    "bars=plt.bar(result['Hour'].values,result['Total_Shootings'].values)\n",
    "plt.xlabel('Hour',fontsize=12,labelpad=12)\n",
    "plt.ylabel('Total Shootings',fontsize=12,labelpad=12)\n",
    "plt.title('Distribution of Shootings by Hour')\n",
    "plt.bar_label(bars,label_type='edge')\n",
    "plt.show()"
   ]
  },
  {
   "cell_type": "markdown",
   "id": "baa6a9f8",
   "metadata": {},
   "source": [
    "The peak time window of shootings is from the evening to midnight (6pm-12am). The middle of the night (1am-3am) is also a time where lot of shootings occur but not peak. The safest hours are from morning to noon (5am-12pm) where shootings are the lowest. In the afternoon (1pm-5pm), there is still a good number of shootings to be cautious about."
   ]
  },
  {
   "cell_type": "markdown",
   "id": "2e6e4f48",
   "metadata": {},
   "source": [
    "### Question 6: What is the distribution of shootings based on victim and perpetrator demographics for 2022?"
   ]
  },
  {
   "cell_type": "markdown",
   "id": "11a7a7bb",
   "metadata": {},
   "source": [
    "#### Distribution of Shootings By Victim Race"
   ]
  },
  {
   "cell_type": "code",
   "execution_count": 88,
   "id": "a2b196df",
   "metadata": {},
   "outputs": [],
   "source": [
    "#query to retrieve total number of victims grouped by race in 2022\n",
    "query='''SELECT s.VIC_RACE, COUNT(1) AS Total_Shootings\n",
    "         FROM Shootings AS s\n",
    "         JOIN Incidents AS i\n",
    "         ON s.INCIDENT_KEY=i.INCIDENT_KEY\n",
    "         WHERE strftime('%Y',i.OCCUR_DATE)=='2022' \n",
    "         GROUP BY 1\n",
    "         ORDER BY 2 DESC;'''"
   ]
  },
  {
   "cell_type": "code",
   "execution_count": 89,
   "id": "9329cb0b",
   "metadata": {},
   "outputs": [
    {
     "data": {
      "text/html": [
       "<div>\n",
       "<style scoped>\n",
       "    .dataframe tbody tr th:only-of-type {\n",
       "        vertical-align: middle;\n",
       "    }\n",
       "\n",
       "    .dataframe tbody tr th {\n",
       "        vertical-align: top;\n",
       "    }\n",
       "\n",
       "    .dataframe thead th {\n",
       "        text-align: right;\n",
       "    }\n",
       "</style>\n",
       "<table border=\"1\" class=\"dataframe\">\n",
       "  <thead>\n",
       "    <tr style=\"text-align: right;\">\n",
       "      <th></th>\n",
       "      <th>VIC_RACE</th>\n",
       "      <th>Total_Shootings</th>\n",
       "    </tr>\n",
       "  </thead>\n",
       "  <tbody>\n",
       "    <tr>\n",
       "      <th>0</th>\n",
       "      <td>BLACK</td>\n",
       "      <td>1158</td>\n",
       "    </tr>\n",
       "    <tr>\n",
       "      <th>1</th>\n",
       "      <td>WHITE HISPANIC</td>\n",
       "      <td>307</td>\n",
       "    </tr>\n",
       "    <tr>\n",
       "      <th>2</th>\n",
       "      <td>BLACK HISPANIC</td>\n",
       "      <td>161</td>\n",
       "    </tr>\n",
       "    <tr>\n",
       "      <th>3</th>\n",
       "      <td>ASIAN / PACIFIC ISLANDER</td>\n",
       "      <td>50</td>\n",
       "    </tr>\n",
       "    <tr>\n",
       "      <th>4</th>\n",
       "      <td>WHITE</td>\n",
       "      <td>38</td>\n",
       "    </tr>\n",
       "    <tr>\n",
       "      <th>5</th>\n",
       "      <td>UNKNOWN</td>\n",
       "      <td>1</td>\n",
       "    </tr>\n",
       "    <tr>\n",
       "      <th>6</th>\n",
       "      <td>AMERICAN INDIAN/ALASKAN NATIVE</td>\n",
       "      <td>1</td>\n",
       "    </tr>\n",
       "  </tbody>\n",
       "</table>\n",
       "</div>"
      ],
      "text/plain": [
       "                         VIC_RACE  Total_Shootings\n",
       "0                           BLACK             1158\n",
       "1                  WHITE HISPANIC              307\n",
       "2                  BLACK HISPANIC              161\n",
       "3        ASIAN / PACIFIC ISLANDER               50\n",
       "4                           WHITE               38\n",
       "5                         UNKNOWN                1\n",
       "6  AMERICAN INDIAN/ALASKAN NATIVE                1"
      ]
     },
     "execution_count": 89,
     "metadata": {},
     "output_type": "execute_result"
    }
   ],
   "source": [
    "result=pd.read_sql_query(query,connection)\n",
    "result"
   ]
  },
  {
   "cell_type": "code",
   "execution_count": 90,
   "id": "d49feac1",
   "metadata": {},
   "outputs": [
    {
     "data": {
      "image/png": "[encoded data removed]",
      "text/plain": [
       "<Figure size 1000x600 with 1 Axes>"
      ]
     },
     "metadata": {},
     "output_type": "display_data"
    }
   ],
   "source": [
    "#plotting the result of the query that gets total number of victims grouped by race\n",
    "plt.figure(figsize=(10,6))\n",
    "ax=sns.barplot(x='Total_Shootings',y='VIC_RACE',data=result,width=.5,dodge=False,orient='h',)\n",
    "plt.xlabel('Total Shootings')\n",
    "plt.ylabel('Race')\n",
    "plt.title('Shooting Distribution by Victim Race')\n",
    "for container in ax.containers:\n",
    "    ax.bar_label(container)\n",
    "\n",
    "plt.show()"
   ]
  },
  {
   "cell_type": "markdown",
   "id": "00335d95",
   "metadata": {},
   "source": [
    "- About 64% of the total shootings in 2022 involved a victim who was black\n",
    "- 307 shootings involved a victim who was white hispanic, not a significant amount of the total (about 18%).\n",
    "- Black Hispanic, Asian/Pacific Islander, White and American Indian/Alaskan Native victims (only 250 shootings combined) make up a small portion of the total shootings\n",
    "- There was one shooting where the victim's race was unknown."
   ]
  },
  {
   "cell_type": "markdown",
   "id": "51ebd71e",
   "metadata": {},
   "source": [
    "#### Distribution Of Shootings by Victim Age Group"
   ]
  },
  {
   "cell_type": "code",
   "execution_count": 91,
   "id": "c5cbae6f",
   "metadata": {},
   "outputs": [],
   "source": [
    "#query to retrieve total number of victims grouped by age group in 2022\n",
    "query='''SELECT s.VIC_AGE_GROUP, COUNT(1) AS Total_Shootings\n",
    "         FROM Shootings AS s\n",
    "         JOIN Incidents AS i\n",
    "         ON s.INCIDENT_KEY=i.INCIDENT_KEY\n",
    "         WHERE strftime('%Y',i.OCCUR_DATE)=='2022' \n",
    "         GROUP BY 1;'''"
   ]
  },
  {
   "cell_type": "code",
   "execution_count": 92,
   "id": "ff07178e",
   "metadata": {},
   "outputs": [
    {
     "data": {
      "text/html": [
       "<div>\n",
       "<style scoped>\n",
       "    .dataframe tbody tr th:only-of-type {\n",
       "        vertical-align: middle;\n",
       "    }\n",
       "\n",
       "    .dataframe tbody tr th {\n",
       "        vertical-align: top;\n",
       "    }\n",
       "\n",
       "    .dataframe thead th {\n",
       "        text-align: right;\n",
       "    }\n",
       "</style>\n",
       "<table border=\"1\" class=\"dataframe\">\n",
       "  <thead>\n",
       "    <tr style=\"text-align: right;\">\n",
       "      <th></th>\n",
       "      <th>VIC_AGE_GROUP</th>\n",
       "      <th>Total_Shootings</th>\n",
       "    </tr>\n",
       "  </thead>\n",
       "  <tbody>\n",
       "    <tr>\n",
       "      <th>0</th>\n",
       "      <td>18-24</td>\n",
       "      <td>482</td>\n",
       "    </tr>\n",
       "    <tr>\n",
       "      <th>1</th>\n",
       "      <td>25-44</td>\n",
       "      <td>895</td>\n",
       "    </tr>\n",
       "    <tr>\n",
       "      <th>2</th>\n",
       "      <td>45-64</td>\n",
       "      <td>165</td>\n",
       "    </tr>\n",
       "    <tr>\n",
       "      <th>3</th>\n",
       "      <td>65+</td>\n",
       "      <td>14</td>\n",
       "    </tr>\n",
       "    <tr>\n",
       "      <th>4</th>\n",
       "      <td>&lt;18</td>\n",
       "      <td>158</td>\n",
       "    </tr>\n",
       "    <tr>\n",
       "      <th>5</th>\n",
       "      <td>UNKNOWN</td>\n",
       "      <td>2</td>\n",
       "    </tr>\n",
       "  </tbody>\n",
       "</table>\n",
       "</div>"
      ],
      "text/plain": [
       "  VIC_AGE_GROUP  Total_Shootings\n",
       "0         18-24              482\n",
       "1         25-44              895\n",
       "2         45-64              165\n",
       "3           65+               14\n",
       "4           <18              158\n",
       "5       UNKNOWN                2"
      ]
     },
     "execution_count": 92,
     "metadata": {},
     "output_type": "execute_result"
    }
   ],
   "source": [
    "result=pd.read_sql_query(query,connection)\n",
    "result"
   ]
  },
  {
   "cell_type": "markdown",
   "id": "d49b73ca",
   "metadata": {},
   "source": [
    "The VIC_AGE_GROUP columns are ordered wrong, <18 should be at the front, that should be fixed."
   ]
  },
  {
   "cell_type": "code",
   "execution_count": 93,
   "id": "da9b9763",
   "metadata": {},
   "outputs": [],
   "source": [
    "#creating a reference to the values in the 5th row that contains the age group <18, \n",
    "#remember that dataframes are 0 indexed so 4 here is actually referencing the 5th row\n",
    "\n",
    "row=result.loc[4]"
   ]
  },
  {
   "cell_type": "code",
   "execution_count": 94,
   "id": "a4a2b77a",
   "metadata": {},
   "outputs": [],
   "source": [
    "#dropping the 5th row from the result dataframe\n",
    "result=result.drop(4)"
   ]
  },
  {
   "cell_type": "code",
   "execution_count": 95,
   "id": "c5c0030b",
   "metadata": {},
   "outputs": [
    {
     "data": {
      "text/html": [
       "<div>\n",
       "<style scoped>\n",
       "    .dataframe tbody tr th:only-of-type {\n",
       "        vertical-align: middle;\n",
       "    }\n",
       "\n",
       "    .dataframe tbody tr th {\n",
       "        vertical-align: top;\n",
       "    }\n",
       "\n",
       "    .dataframe thead th {\n",
       "        text-align: right;\n",
       "    }\n",
       "</style>\n",
       "<table border=\"1\" class=\"dataframe\">\n",
       "  <thead>\n",
       "    <tr style=\"text-align: right;\">\n",
       "      <th></th>\n",
       "      <th>VIC_AGE_GROUP</th>\n",
       "      <th>Total_Shootings</th>\n",
       "    </tr>\n",
       "  </thead>\n",
       "  <tbody>\n",
       "    <tr>\n",
       "      <th>0</th>\n",
       "      <td>&lt;18</td>\n",
       "      <td>158</td>\n",
       "    </tr>\n",
       "    <tr>\n",
       "      <th>1</th>\n",
       "      <td>18-24</td>\n",
       "      <td>482</td>\n",
       "    </tr>\n",
       "    <tr>\n",
       "      <th>2</th>\n",
       "      <td>25-44</td>\n",
       "      <td>895</td>\n",
       "    </tr>\n",
       "    <tr>\n",
       "      <th>3</th>\n",
       "      <td>45-64</td>\n",
       "      <td>165</td>\n",
       "    </tr>\n",
       "    <tr>\n",
       "      <th>4</th>\n",
       "      <td>65+</td>\n",
       "      <td>14</td>\n",
       "    </tr>\n",
       "    <tr>\n",
       "      <th>5</th>\n",
       "      <td>UNKNOWN</td>\n",
       "      <td>2</td>\n",
       "    </tr>\n",
       "  </tbody>\n",
       "</table>\n",
       "</div>"
      ],
      "text/plain": [
       "  VIC_AGE_GROUP Total_Shootings\n",
       "0           <18             158\n",
       "1         18-24             482\n",
       "2         25-44             895\n",
       "3         45-64             165\n",
       "4           65+              14\n",
       "5       UNKNOWN               2"
      ]
     },
     "execution_count": 95,
     "metadata": {},
     "output_type": "execute_result"
    }
   ],
   "source": [
    "#concatting the row referencing <18 age group with the result dataframe, so that the row with <18 age group\n",
    "#is in the front\n",
    "result=pd.concat([row.to_frame().T,result],ignore_index=True)\n",
    "result"
   ]
  },
  {
   "cell_type": "code",
   "execution_count": 96,
   "id": "e86104a6",
   "metadata": {},
   "outputs": [
    {
     "data": {
      "image/png": "[encoded data removed]",
      "text/plain": [
       "<Figure size 1000x600 with 1 Axes>"
      ]
     },
     "metadata": {},
     "output_type": "display_data"
    }
   ],
   "source": [
    "#plotting the result of the query that gets the total number of victims by age group\n",
    "plt.figure(figsize=(10,6))\n",
    "bars=plt.bar(result['VIC_AGE_GROUP'].values,result['Total_Shootings'].values)\n",
    "plt.xlabel('Age Group',fontsize=12,labelpad=12)\n",
    "plt.ylabel('Total Shootings',fontsize=12,labelpad=12)\n",
    "plt.title('Distribution of Shootings by Victims Age')\n",
    "plt.bar_label(bars,label_type='edge')\n",
    "plt.show()"
   ]
  },
  {
   "cell_type": "markdown",
   "id": "8c12dde7",
   "metadata": {},
   "source": [
    "- A little more than half the total shootings in 2022, involved a victim in the age group (25-44)\n",
    "- About 28% of shootings involved a victim in the age group (18-24)\n",
    "- It's a little disheartening to know that in 158 shootings in 2022, the victim was below the age of 18\n",
    "- Just under 10% of the shootings, involved a victim who was in the age group (45-64)\n",
    "- There is barely any shootings (only 14) where the victim was 65+\n",
    "- There are 2 shootings where the victim's age is unknown."
   ]
  },
  {
   "cell_type": "markdown",
   "id": "e73f257c",
   "metadata": {},
   "source": [
    "#### Distribution of Shootings by Victim Sex"
   ]
  },
  {
   "cell_type": "code",
   "execution_count": 97,
   "id": "674af4bc",
   "metadata": {},
   "outputs": [],
   "source": [
    "#query to count number of victims grouped by sex/gender for the year 2022\n",
    "query='''SELECT s.VIC_SEX, COUNT(1) AS Total_Shootings\n",
    "         FROM Shootings AS s\n",
    "         JOIN Incidents AS i\n",
    "         ON s.INCIDENT_KEY=i.INCIDENT_KEY\n",
    "         WHERE strftime('%Y',i.OCCUR_DATE)=='2022' \n",
    "         GROUP BY 1\n",
    "         ORDER BY 2 DESC;'''"
   ]
  },
  {
   "cell_type": "code",
   "execution_count": 98,
   "id": "6b284b70",
   "metadata": {},
   "outputs": [
    {
     "data": {
      "text/html": [
       "<div>\n",
       "<style scoped>\n",
       "    .dataframe tbody tr th:only-of-type {\n",
       "        vertical-align: middle;\n",
       "    }\n",
       "\n",
       "    .dataframe tbody tr th {\n",
       "        vertical-align: top;\n",
       "    }\n",
       "\n",
       "    .dataframe thead th {\n",
       "        text-align: right;\n",
       "    }\n",
       "</style>\n",
       "<table border=\"1\" class=\"dataframe\">\n",
       "  <thead>\n",
       "    <tr style=\"text-align: right;\">\n",
       "      <th></th>\n",
       "      <th>VIC_SEX</th>\n",
       "      <th>Total_Shootings</th>\n",
       "    </tr>\n",
       "  </thead>\n",
       "  <tbody>\n",
       "    <tr>\n",
       "      <th>0</th>\n",
       "      <td>M</td>\n",
       "      <td>1504</td>\n",
       "    </tr>\n",
       "    <tr>\n",
       "      <th>1</th>\n",
       "      <td>F</td>\n",
       "      <td>212</td>\n",
       "    </tr>\n",
       "  </tbody>\n",
       "</table>\n",
       "</div>"
      ],
      "text/plain": [
       "  VIC_SEX  Total_Shootings\n",
       "0       M             1504\n",
       "1       F              212"
      ]
     },
     "execution_count": 98,
     "metadata": {},
     "output_type": "execute_result"
    }
   ],
   "source": [
    "result=pd.read_sql_query(query,connection)\n",
    "result"
   ]
  },
  {
   "cell_type": "code",
   "execution_count": 99,
   "id": "061d05c2",
   "metadata": {},
   "outputs": [
    {
     "data": {
      "image/png": "[encoded data removed]",
      "text/plain": [
       "<Figure size 600x600 with 1 Axes>"
      ]
     },
     "metadata": {},
     "output_type": "display_data"
    }
   ],
   "source": [
    "#plotting the result of query that gets total number of victims grouped by gender\n",
    "plt.figure(figsize=(6,6))\n",
    "plt.pie(result['Total_Shootings'],labels=result['VIC_SEX'],autopct='%1.1f%%')\n",
    "plt.title('Distribution of Shootings by Victim Gender')\n",
    "plt.show()"
   ]
  },
  {
   "cell_type": "markdown",
   "id": "c12df7db",
   "metadata": {},
   "source": [
    "In most shootings, the victim is a male\n",
    "- 88% of shootings involved a victim that was male\n",
    "- 12% of shootings involved a victim that was female"
   ]
  },
  {
   "cell_type": "markdown",
   "id": "6cc1dbd5",
   "metadata": {},
   "source": [
    "#### Distribution of Shooting by Perpetrator Race"
   ]
  },
  {
   "cell_type": "code",
   "execution_count": 100,
   "id": "cd7c9818",
   "metadata": {},
   "outputs": [],
   "source": [
    "#query to get total perpetrators grouped by race\n",
    "query='''SELECT s.PERP_RACE, COUNT(1) AS Total_Shootings\n",
    "         FROM Shootings AS s\n",
    "         JOIN Incidents AS i\n",
    "         ON s.INCIDENT_KEY=i.INCIDENT_KEY\n",
    "         WHERE strftime('%Y',i.OCCUR_DATE)=='2022' \n",
    "         GROUP BY 1\n",
    "         ORDER BY 2 DESC;'''"
   ]
  },
  {
   "cell_type": "code",
   "execution_count": 101,
   "id": "2afd32de",
   "metadata": {},
   "outputs": [
    {
     "data": {
      "text/html": [
       "<div>\n",
       "<style scoped>\n",
       "    .dataframe tbody tr th:only-of-type {\n",
       "        vertical-align: middle;\n",
       "    }\n",
       "\n",
       "    .dataframe tbody tr th {\n",
       "        vertical-align: top;\n",
       "    }\n",
       "\n",
       "    .dataframe thead th {\n",
       "        text-align: right;\n",
       "    }\n",
       "</style>\n",
       "<table border=\"1\" class=\"dataframe\">\n",
       "  <thead>\n",
       "    <tr style=\"text-align: right;\">\n",
       "      <th></th>\n",
       "      <th>PERP_RACE</th>\n",
       "      <th>Total_Shootings</th>\n",
       "    </tr>\n",
       "  </thead>\n",
       "  <tbody>\n",
       "    <tr>\n",
       "      <th>0</th>\n",
       "      <td>BLACK</td>\n",
       "      <td>764</td>\n",
       "    </tr>\n",
       "    <tr>\n",
       "      <th>1</th>\n",
       "      <td>UNKNOWN</td>\n",
       "      <td>640</td>\n",
       "    </tr>\n",
       "    <tr>\n",
       "      <th>2</th>\n",
       "      <td>WHITE HISPANIC</td>\n",
       "      <td>177</td>\n",
       "    </tr>\n",
       "    <tr>\n",
       "      <th>3</th>\n",
       "      <td>BLACK HISPANIC</td>\n",
       "      <td>111</td>\n",
       "    </tr>\n",
       "    <tr>\n",
       "      <th>4</th>\n",
       "      <td>ASIAN / PACIFIC ISLANDER</td>\n",
       "      <td>13</td>\n",
       "    </tr>\n",
       "    <tr>\n",
       "      <th>5</th>\n",
       "      <td>WHITE</td>\n",
       "      <td>11</td>\n",
       "    </tr>\n",
       "  </tbody>\n",
       "</table>\n",
       "</div>"
      ],
      "text/plain": [
       "                  PERP_RACE  Total_Shootings\n",
       "0                     BLACK              764\n",
       "1                   UNKNOWN              640\n",
       "2            WHITE HISPANIC              177\n",
       "3            BLACK HISPANIC              111\n",
       "4  ASIAN / PACIFIC ISLANDER               13\n",
       "5                     WHITE               11"
      ]
     },
     "execution_count": 101,
     "metadata": {},
     "output_type": "execute_result"
    }
   ],
   "source": [
    "result=pd.read_sql_query(query,connection)\n",
    "result"
   ]
  },
  {
   "cell_type": "code",
   "execution_count": 102,
   "id": "b64f9c49",
   "metadata": {},
   "outputs": [
    {
     "data": {
      "image/png": "[encoded data removed]",
      "text/plain": [
       "<Figure size 1000x600 with 1 Axes>"
      ]
     },
     "metadata": {},
     "output_type": "display_data"
    }
   ],
   "source": [
    "#plotting the result of the query that gets total number of perpetrator grouped by race\n",
    "plt.figure(figsize=(10,6))\n",
    "ax=sns.barplot(x='Total_Shootings',y='PERP_RACE',data=result,width=.5,dodge=False,orient='h',)\n",
    "plt.xlabel('Total Shootings')\n",
    "plt.ylabel('Race')\n",
    "plt.title('Distribution of Shootings by Perpetrator Race')\n",
    "for container in ax.containers:\n",
    "    ax.bar_label(container)\n",
    "\n",
    "plt.show()"
   ]
  },
  {
   "cell_type": "markdown",
   "id": "0aabdb58",
   "metadata": {},
   "source": [
    "- In 640 of the shootings (about 37% of the total shootings in 2022), the perpetrator/shooter race was unknown. (The perpetrator was probably not identified or caught)\n",
    "- The majority of shootings (where the shooter is identified) involved a shooter who was black.\n",
    "- Only 17% of shootings involved a shooter who was either white or black hispanic.\n",
    "- There are very few shootings where the shooter is White or Asian/Pacific Islander. (only 24 shootings combined)"
   ]
  },
  {
   "cell_type": "markdown",
   "id": "e0fcd450",
   "metadata": {},
   "source": [
    "#### Distribution of Shootings by Perpetrator Age Group"
   ]
  },
  {
   "cell_type": "code",
   "execution_count": 103,
   "id": "1cef5d77",
   "metadata": {},
   "outputs": [],
   "source": [
    "#query to get number of perpetrators grouped by age group\n",
    "query='''SELECT s.PERP_AGE_GROUP, COUNT(1) AS Total_Shootings\n",
    "         FROM Shootings AS s\n",
    "         JOIN Incidents AS i\n",
    "         ON s.INCIDENT_KEY=i.INCIDENT_KEY\n",
    "         WHERE strftime('%Y',i.OCCUR_DATE)=='2022' \n",
    "         GROUP BY 1;'''"
   ]
  },
  {
   "cell_type": "code",
   "execution_count": 104,
   "id": "badd0931",
   "metadata": {},
   "outputs": [
    {
     "data": {
      "text/html": [
       "<div>\n",
       "<style scoped>\n",
       "    .dataframe tbody tr th:only-of-type {\n",
       "        vertical-align: middle;\n",
       "    }\n",
       "\n",
       "    .dataframe tbody tr th {\n",
       "        vertical-align: top;\n",
       "    }\n",
       "\n",
       "    .dataframe thead th {\n",
       "        text-align: right;\n",
       "    }\n",
       "</style>\n",
       "<table border=\"1\" class=\"dataframe\">\n",
       "  <thead>\n",
       "    <tr style=\"text-align: right;\">\n",
       "      <th></th>\n",
       "      <th>PERP_AGE_GROUP</th>\n",
       "      <th>Total_Shootings</th>\n",
       "    </tr>\n",
       "  </thead>\n",
       "  <tbody>\n",
       "    <tr>\n",
       "      <th>0</th>\n",
       "      <td>18-24</td>\n",
       "      <td>378</td>\n",
       "    </tr>\n",
       "    <tr>\n",
       "      <th>1</th>\n",
       "      <td>25-44</td>\n",
       "      <td>485</td>\n",
       "    </tr>\n",
       "    <tr>\n",
       "      <th>2</th>\n",
       "      <td>45-64</td>\n",
       "      <td>82</td>\n",
       "    </tr>\n",
       "    <tr>\n",
       "      <th>3</th>\n",
       "      <td>65+</td>\n",
       "      <td>3</td>\n",
       "    </tr>\n",
       "    <tr>\n",
       "      <th>4</th>\n",
       "      <td>&lt;18</td>\n",
       "      <td>128</td>\n",
       "    </tr>\n",
       "    <tr>\n",
       "      <th>5</th>\n",
       "      <td>UNKNOWN</td>\n",
       "      <td>640</td>\n",
       "    </tr>\n",
       "  </tbody>\n",
       "</table>\n",
       "</div>"
      ],
      "text/plain": [
       "  PERP_AGE_GROUP  Total_Shootings\n",
       "0          18-24              378\n",
       "1          25-44              485\n",
       "2          45-64               82\n",
       "3            65+                3\n",
       "4            <18              128\n",
       "5        UNKNOWN              640"
      ]
     },
     "execution_count": 104,
     "metadata": {},
     "output_type": "execute_result"
    }
   ],
   "source": [
    "result=pd.read_sql_query(query,connection)\n",
    "result"
   ]
  },
  {
   "cell_type": "markdown",
   "id": "0175bd38",
   "metadata": {},
   "source": [
    "The PERP_AGE_GROUP columns are ordered wrong, <18 should be at the front, that should be fixed."
   ]
  },
  {
   "cell_type": "code",
   "execution_count": 105,
   "id": "bbce3336",
   "metadata": {},
   "outputs": [],
   "source": [
    "#creating a reference to the values in the 5th row that contains the age group <18, remember that \n",
    "#dataframes are 0 indexed so 4 here is actually referencing the 5th row\n",
    "\n",
    "row=result.loc[4]"
   ]
  },
  {
   "cell_type": "code",
   "execution_count": 106,
   "id": "896e64ec",
   "metadata": {},
   "outputs": [],
   "source": [
    "#dropping the 5th row from the result dataframe\n",
    "result=result.drop(4)"
   ]
  },
  {
   "cell_type": "code",
   "execution_count": 107,
   "id": "40d7149a",
   "metadata": {},
   "outputs": [
    {
     "data": {
      "text/html": [
       "<div>\n",
       "<style scoped>\n",
       "    .dataframe tbody tr th:only-of-type {\n",
       "        vertical-align: middle;\n",
       "    }\n",
       "\n",
       "    .dataframe tbody tr th {\n",
       "        vertical-align: top;\n",
       "    }\n",
       "\n",
       "    .dataframe thead th {\n",
       "        text-align: right;\n",
       "    }\n",
       "</style>\n",
       "<table border=\"1\" class=\"dataframe\">\n",
       "  <thead>\n",
       "    <tr style=\"text-align: right;\">\n",
       "      <th></th>\n",
       "      <th>PERP_AGE_GROUP</th>\n",
       "      <th>Total_Shootings</th>\n",
       "    </tr>\n",
       "  </thead>\n",
       "  <tbody>\n",
       "    <tr>\n",
       "      <th>0</th>\n",
       "      <td>&lt;18</td>\n",
       "      <td>128</td>\n",
       "    </tr>\n",
       "    <tr>\n",
       "      <th>1</th>\n",
       "      <td>18-24</td>\n",
       "      <td>378</td>\n",
       "    </tr>\n",
       "    <tr>\n",
       "      <th>2</th>\n",
       "      <td>25-44</td>\n",
       "      <td>485</td>\n",
       "    </tr>\n",
       "    <tr>\n",
       "      <th>3</th>\n",
       "      <td>45-64</td>\n",
       "      <td>82</td>\n",
       "    </tr>\n",
       "    <tr>\n",
       "      <th>4</th>\n",
       "      <td>65+</td>\n",
       "      <td>3</td>\n",
       "    </tr>\n",
       "    <tr>\n",
       "      <th>5</th>\n",
       "      <td>UNKNOWN</td>\n",
       "      <td>640</td>\n",
       "    </tr>\n",
       "  </tbody>\n",
       "</table>\n",
       "</div>"
      ],
      "text/plain": [
       "  PERP_AGE_GROUP Total_Shootings\n",
       "0            <18             128\n",
       "1          18-24             378\n",
       "2          25-44             485\n",
       "3          45-64              82\n",
       "4            65+               3\n",
       "5        UNKNOWN             640"
      ]
     },
     "execution_count": 107,
     "metadata": {},
     "output_type": "execute_result"
    }
   ],
   "source": [
    "#concatting the row referencing <18 age group with the result dataframe, so that the row with <18 age group\n",
    "#is in the front\n",
    "result=pd.concat([row.to_frame().T,result],ignore_index=True)\n",
    "result"
   ]
  },
  {
   "cell_type": "code",
   "execution_count": 108,
   "id": "a8c98a35",
   "metadata": {},
   "outputs": [
    {
     "data": {
      "image/png": "[encoded data removed]",
      "text/plain": [
       "<Figure size 1000x600 with 1 Axes>"
      ]
     },
     "metadata": {},
     "output_type": "display_data"
    }
   ],
   "source": [
    "#plotting the result of the query that gets the total number of victims by age group\n",
    "plt.figure(figsize=(10,6))\n",
    "bars=plt.bar(result['PERP_AGE_GROUP'].values,result['Total_Shootings'].values)\n",
    "plt.xlabel('Age Group',fontsize=12,labelpad=12)\n",
    "plt.ylabel('Total Shootings',fontsize=12,labelpad=12)\n",
    "plt.title('Distribution of Shootings by Perpetrator Age Group')\n",
    "plt.bar_label(bars,label_type='edge')\n",
    "plt.show()"
   ]
  },
  {
   "cell_type": "markdown",
   "id": "3933911e",
   "metadata": {},
   "source": [
    "- In 640 of the shootings, the shooter's age group is unknown just like with the previous graph which looked at race. (This further backs the idea that the shooters were not identified or were not caught)\n",
    "- Overall the the majority of shootings (where the shooter is identified) involved a shooter who was either (18-24) or (25-44).\n",
    "- There are 128 shootings that involved a shooter that was under 18, I think that is very worrisome that there are even over a 100 shootings where the shooter is a teen.\n",
    "- There aren't many shootings (only 85 combined) where the shooter is in the age groups (45-64) or 65+."
   ]
  },
  {
   "cell_type": "markdown",
   "id": "85ae087e",
   "metadata": {},
   "source": [
    "#### Distribution of Shootings by Perpetrator Sex"
   ]
  },
  {
   "cell_type": "code",
   "execution_count": 109,
   "id": "5ff5e57f",
   "metadata": {},
   "outputs": [],
   "source": [
    "#query to get number of shootings grouped by perpetrator's sex/gender\n",
    "query='''SELECT s.PERP_SEX, COUNT(1) AS Total_Shootings\n",
    "         FROM Shootings AS s\n",
    "         JOIN Incidents AS i\n",
    "         ON s.INCIDENT_KEY=i.INCIDENT_KEY\n",
    "         WHERE strftime('%Y',i.OCCUR_DATE)=='2022' \n",
    "         GROUP BY 1\n",
    "         ORDER BY 2 DESC;'''"
   ]
  },
  {
   "cell_type": "code",
   "execution_count": 110,
   "id": "25f6e5c3",
   "metadata": {},
   "outputs": [
    {
     "data": {
      "text/html": [
       "<div>\n",
       "<style scoped>\n",
       "    .dataframe tbody tr th:only-of-type {\n",
       "        vertical-align: middle;\n",
       "    }\n",
       "\n",
       "    .dataframe tbody tr th {\n",
       "        vertical-align: top;\n",
       "    }\n",
       "\n",
       "    .dataframe thead th {\n",
       "        text-align: right;\n",
       "    }\n",
       "</style>\n",
       "<table border=\"1\" class=\"dataframe\">\n",
       "  <thead>\n",
       "    <tr style=\"text-align: right;\">\n",
       "      <th></th>\n",
       "      <th>PERP_SEX</th>\n",
       "      <th>Total_Shootings</th>\n",
       "    </tr>\n",
       "  </thead>\n",
       "  <tbody>\n",
       "    <tr>\n",
       "      <th>0</th>\n",
       "      <td>M</td>\n",
       "      <td>1023</td>\n",
       "    </tr>\n",
       "    <tr>\n",
       "      <th>1</th>\n",
       "      <td>U</td>\n",
       "      <td>640</td>\n",
       "    </tr>\n",
       "    <tr>\n",
       "      <th>2</th>\n",
       "      <td>F</td>\n",
       "      <td>53</td>\n",
       "    </tr>\n",
       "  </tbody>\n",
       "</table>\n",
       "</div>"
      ],
      "text/plain": [
       "  PERP_SEX  Total_Shootings\n",
       "0        M             1023\n",
       "1        U              640\n",
       "2        F               53"
      ]
     },
     "execution_count": 110,
     "metadata": {},
     "output_type": "execute_result"
    }
   ],
   "source": [
    "result=pd.read_sql_query(query,connection)\n",
    "result"
   ]
  },
  {
   "cell_type": "code",
   "execution_count": 111,
   "id": "38ed4199",
   "metadata": {},
   "outputs": [
    {
     "data": {
      "image/png": "[encoded data removed]",
      "text/plain": [
       "<Figure size 600x600 with 1 Axes>"
      ]
     },
     "metadata": {},
     "output_type": "display_data"
    }
   ],
   "source": [
    "#plotting result for query that gets number of perpetrators grouped by gender\n",
    "plt.figure(figsize=(6,6))\n",
    "plt.pie(result['Total_Shootings'],labels=result['PERP_SEX'],autopct='%1.1f%%')\n",
    "plt.title('Shooting Distribution by Pepetrator Gender')\n",
    "plt.show()"
   ]
  },
  {
   "cell_type": "markdown",
   "id": "8387d210",
   "metadata": {},
   "source": [
    "- About 37 percent of the reported shootings, the race of the shooter is unknown\n",
    "- About 60 percent of the reported shootings involved a male shooter\n",
    "- Only 3 percent of the reported shootings involved a female shooter"
   ]
  },
  {
   "cell_type": "markdown",
   "id": "b3899dbb",
   "metadata": {},
   "source": [
    "### Question 7: What are the top 5 precincts with the most shootings (2022)?"
   ]
  },
  {
   "cell_type": "markdown",
   "id": "766b549b",
   "metadata": {},
   "source": [
    "Precincts with the same number of shootings will share the same rank. So there will be a possiblity of ties for precincts in the ranks 1-5 in terms of most shootings. I will be using dense rank to handle ties."
   ]
  },
  {
   "cell_type": "code",
   "execution_count": 112,
   "id": "ce78d895",
   "metadata": {},
   "outputs": [],
   "source": [
    "#query to get total shootings grouped by precinct, ordered in descending order by total shootings\n",
    "query='''SELECT i.PRECINCT, COUNT(1) AS Total_Shootings\n",
    "         FROM Incidents AS i\n",
    "         JOIN Shootings AS s\n",
    "         ON i.INCIDENT_KEY=s.INCIDENT_KEY\n",
    "         WHERE strftime('%Y',i.OCCUR_DATE)=='2022'\n",
    "         GROUP BY 1\n",
    "         ORDER BY 2 DESC\n",
    "         '''"
   ]
  },
  {
   "cell_type": "code",
   "execution_count": 113,
   "id": "f18e5cad",
   "metadata": {},
   "outputs": [
    {
     "data": {
      "text/html": [
       "<div>\n",
       "<style scoped>\n",
       "    .dataframe tbody tr th:only-of-type {\n",
       "        vertical-align: middle;\n",
       "    }\n",
       "\n",
       "    .dataframe tbody tr th {\n",
       "        vertical-align: top;\n",
       "    }\n",
       "\n",
       "    .dataframe thead th {\n",
       "        text-align: right;\n",
       "    }\n",
       "</style>\n",
       "<table border=\"1\" class=\"dataframe\">\n",
       "  <thead>\n",
       "    <tr style=\"text-align: right;\">\n",
       "      <th></th>\n",
       "      <th>PRECINCT</th>\n",
       "      <th>Total_Shootings</th>\n",
       "    </tr>\n",
       "  </thead>\n",
       "  <tbody>\n",
       "    <tr>\n",
       "      <th>0</th>\n",
       "      <td>75</td>\n",
       "      <td>87</td>\n",
       "    </tr>\n",
       "    <tr>\n",
       "      <th>1</th>\n",
       "      <td>73</td>\n",
       "      <td>80</td>\n",
       "    </tr>\n",
       "    <tr>\n",
       "      <th>2</th>\n",
       "      <td>48</td>\n",
       "      <td>72</td>\n",
       "    </tr>\n",
       "    <tr>\n",
       "      <th>3</th>\n",
       "      <td>44</td>\n",
       "      <td>71</td>\n",
       "    </tr>\n",
       "    <tr>\n",
       "      <th>4</th>\n",
       "      <td>40</td>\n",
       "      <td>71</td>\n",
       "    </tr>\n",
       "    <tr>\n",
       "      <th>...</th>\n",
       "      <td>...</td>\n",
       "      <td>...</td>\n",
       "    </tr>\n",
       "    <tr>\n",
       "      <th>69</th>\n",
       "      <td>112</td>\n",
       "      <td>3</td>\n",
       "    </tr>\n",
       "    <tr>\n",
       "      <th>70</th>\n",
       "      <td>111</td>\n",
       "      <td>3</td>\n",
       "    </tr>\n",
       "    <tr>\n",
       "      <th>71</th>\n",
       "      <td>17</td>\n",
       "      <td>3</td>\n",
       "    </tr>\n",
       "    <tr>\n",
       "      <th>72</th>\n",
       "      <td>1</td>\n",
       "      <td>3</td>\n",
       "    </tr>\n",
       "    <tr>\n",
       "      <th>73</th>\n",
       "      <td>19</td>\n",
       "      <td>2</td>\n",
       "    </tr>\n",
       "  </tbody>\n",
       "</table>\n",
       "<p>74 rows × 2 columns</p>\n",
       "</div>"
      ],
      "text/plain": [
       "    PRECINCT  Total_Shootings\n",
       "0         75               87\n",
       "1         73               80\n",
       "2         48               72\n",
       "3         44               71\n",
       "4         40               71\n",
       "..       ...              ...\n",
       "69       112                3\n",
       "70       111                3\n",
       "71        17                3\n",
       "72         1                3\n",
       "73        19                2\n",
       "\n",
       "[74 rows x 2 columns]"
      ]
     },
     "execution_count": 113,
     "metadata": {},
     "output_type": "execute_result"
    }
   ],
   "source": [
    "result=pd.read_sql_query(query,connection)\n",
    "result"
   ]
  },
  {
   "cell_type": "code",
   "execution_count": 114,
   "id": "41f3eec7",
   "metadata": {},
   "outputs": [],
   "source": [
    "#creating a rank column for the result, that uses dense rank over total shootings in descending order\n",
    "result['Rank']=result['Total_Shootings'].rank(method='dense',ascending=False)"
   ]
  },
  {
   "cell_type": "code",
   "execution_count": 115,
   "id": "d1fa99c4",
   "metadata": {},
   "outputs": [
    {
     "data": {
      "text/html": [
       "<div>\n",
       "<style scoped>\n",
       "    .dataframe tbody tr th:only-of-type {\n",
       "        vertical-align: middle;\n",
       "    }\n",
       "\n",
       "    .dataframe tbody tr th {\n",
       "        vertical-align: top;\n",
       "    }\n",
       "\n",
       "    .dataframe thead th {\n",
       "        text-align: right;\n",
       "    }\n",
       "</style>\n",
       "<table border=\"1\" class=\"dataframe\">\n",
       "  <thead>\n",
       "    <tr style=\"text-align: right;\">\n",
       "      <th></th>\n",
       "      <th>PRECINCT</th>\n",
       "      <th>Total_Shootings</th>\n",
       "      <th>Rank</th>\n",
       "    </tr>\n",
       "  </thead>\n",
       "  <tbody>\n",
       "    <tr>\n",
       "      <th>0</th>\n",
       "      <td>75</td>\n",
       "      <td>87</td>\n",
       "      <td>1.0</td>\n",
       "    </tr>\n",
       "    <tr>\n",
       "      <th>1</th>\n",
       "      <td>73</td>\n",
       "      <td>80</td>\n",
       "      <td>2.0</td>\n",
       "    </tr>\n",
       "    <tr>\n",
       "      <th>2</th>\n",
       "      <td>48</td>\n",
       "      <td>72</td>\n",
       "      <td>3.0</td>\n",
       "    </tr>\n",
       "    <tr>\n",
       "      <th>3</th>\n",
       "      <td>44</td>\n",
       "      <td>71</td>\n",
       "      <td>4.0</td>\n",
       "    </tr>\n",
       "    <tr>\n",
       "      <th>4</th>\n",
       "      <td>40</td>\n",
       "      <td>71</td>\n",
       "      <td>4.0</td>\n",
       "    </tr>\n",
       "    <tr>\n",
       "      <th>5</th>\n",
       "      <td>25</td>\n",
       "      <td>61</td>\n",
       "      <td>5.0</td>\n",
       "    </tr>\n",
       "  </tbody>\n",
       "</table>\n",
       "</div>"
      ],
      "text/plain": [
       "   PRECINCT  Total_Shootings  Rank\n",
       "0        75               87   1.0\n",
       "1        73               80   2.0\n",
       "2        48               72   3.0\n",
       "3        44               71   4.0\n",
       "4        40               71   4.0\n",
       "5        25               61   5.0"
      ]
     },
     "execution_count": 115,
     "metadata": {},
     "output_type": "execute_result"
    }
   ],
   "source": [
    "#filtering to only have rows with ranks 5 or below\n",
    "result=result[result['Rank']<=5]\n",
    "result"
   ]
  },
  {
   "cell_type": "markdown",
   "id": "593be998",
   "metadata": {},
   "source": [
    "Precint 44 and 40 ended up having the same number of shootings and will both be the 4th ranked Precinct with the most shootings."
   ]
  },
  {
   "cell_type": "code",
   "execution_count": 116,
   "id": "d476662d",
   "metadata": {},
   "outputs": [],
   "source": [
    "#change precinct column to a string type for the result dataframe so when plotting the precincts, the plotting library\n",
    "#won't confuse it for a number and try to reorder things\n",
    "\n",
    "result.loc[:,'PRECINCT']=result['PRECINCT'].astype(str)"
   ]
  },
  {
   "cell_type": "code",
   "execution_count": 117,
   "id": "1809880d",
   "metadata": {},
   "outputs": [
    {
     "data": {
      "image/png": "[encoded data removed]",
      "text/plain": [
       "<Figure size 1000x600 with 1 Axes>"
      ]
     },
     "metadata": {},
     "output_type": "display_data"
    }
   ],
   "source": [
    "#plotting query result that gets the top 5 precincts with the most shootings using dense rank\n",
    "plt.figure(figsize=(10,6))\n",
    "ax=sns.barplot(x='Total_Shootings',y='PRECINCT',hue='Rank',data=result,width=.5,dodge=False,orient='h')\n",
    "plt.xlabel('Total Shootings')\n",
    "plt.ylabel('Precinct')\n",
    "plt.title('Top 5 Precinct with the Most Shootings')\n",
    "for container in ax.containers:\n",
    "    ax.bar_label(container)\n",
    "\n",
    "plt.show()"
   ]
  },
  {
   "cell_type": "markdown",
   "id": "bcdcdb92",
   "metadata": {},
   "source": [
    "1. Precinct 75 with 87 shootings\n",
    "2. Precinct 73 with 80 shootings\n",
    "3. Precinct 48 with 72 shootings\n",
    "4. Precincts tied for 4th with 71 shootings\n",
    "    - Precinct 44\n",
    "    - Preinct 40\n",
    "5. Precinct 25 with 61 shootings"
   ]
  },
  {
   "cell_type": "markdown",
   "id": "ee6848e3",
   "metadata": {},
   "source": [
    "Here's some general info on the precincts above:\n",
    "\n",
    "- The 75th precinct covers the easternmost area of Brooklyn, including East New York and Cypress Hill Neighborhoods\n",
    "- The 73rd precinct covers the northeastern section of Brooklyn, which includes the neighborhoods of Brownsville and Ocean Hill\n",
    "- The 48th precinct is located at the center of the Bronx, it includes the neighborhoods of Belmont, East Tremont, and West Farms\n",
    "- The 44th precinct covers an area of about 1.97 square miles in the southwestern part of the Bronx, which includes notable landmarks like the Grand Concourse, Bronx Terminal Market and Yankee Stadium.\n",
    "- The 40th precinct is situated at the southernmost point of the Bronx and is responsible for policing the neighborhoods of Port Morris, Mott Haven and Melrose.\n",
    "- The 25th precinct covers the northern part of East Harlem, includes communities like Marcus Garvey Park, Harlem Art Park and the 125th Street Metro-North Station."
   ]
  },
  {
   "cell_type": "markdown",
   "id": "9cc17855",
   "metadata": {},
   "source": [
    "### Final Thoughts"
   ]
  },
  {
   "cell_type": "markdown",
   "id": "51d367a9",
   "metadata": {},
   "source": [
    "After an analysis on this dataset, it is clear that shootings in NYC have definitely increased in recent years. I think the city needs to take action in some way. Some of the patterns that I found in this analysis could be a starting point. This is what I would do based on my findings:\n",
    "\n",
    "1. Get more police stationed in the Bronx and Brooklyn, the two boroughs with the most shootings every year.\n",
    "2. For the precincts with very hight shootings: 25,40,44,48,73,75, try to get more help from neighboring precincts that might have low criminal acitivity.\n",
    "3. Have more police stationed towards the evening and midnight when the highest number of shootings occur, also during the summer season where shootings tend to peak in terms of by month.\n",
    "4. Have a plan for when another pandemic hits NYC to prevent another surge in shootings like with how Covid did.\n",
    "5. We need to do a better job educating teens on gun violence, the fact that in 2022 there were 128 shootings in NYC where the shooter was under 18 is not a good sign.\n",
    " "
   ]
  },
  {
   "cell_type": "code",
   "execution_count": 118,
   "id": "0974550f",
   "metadata": {},
   "outputs": [],
   "source": [
    "#close connection to sqlite3 database\n",
    "connection.close()"
   ]
  }
 ],
 "metadata": {
  "kernelspec": {
   "display_name": "Python 3 (ipykernel)",
   "language": "python",
   "name": "python3"
  },
  "language_info": {
   "codemirror_mode": {
    "name": "ipython",
    "version": 3
   },
   "file_extension": ".py",
   "mimetype": "text/x-python",
   "name": "python",
   "nbconvert_exporter": "python",
   "pygments_lexer": "ipython3",
   "version": "3.10.5"
  }
 },
 "nbformat": 4,
 "nbformat_minor": 5
}
